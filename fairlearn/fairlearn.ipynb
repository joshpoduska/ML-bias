{
 "cells": [
  {
   "cell_type": "code",
   "execution_count": 1,
   "metadata": {},
   "outputs": [
    {
     "name": "stdout",
     "output_type": "stream",
     "text": [
      "Collecting fairlearn\n",
      "  Downloading fairlearn-0.7.0-py3-none-any.whl (177 kB)\n",
      "\u001b[K     |████████████████████████████████| 177 kB 7.2 MB/s eta 0:00:01\n",
      "\u001b[?25hRequirement already satisfied: pandas>=0.25.1 in /opt/conda/lib/python3.6/site-packages (from fairlearn) (0.25.3)\n",
      "Requirement already satisfied: numpy>=1.17.2 in /opt/conda/lib/python3.6/site-packages (from fairlearn) (1.18.2)\n",
      "Requirement already satisfied: scipy>=1.4.1 in /opt/conda/lib/python3.6/site-packages (from fairlearn) (1.4.1)\n",
      "Requirement already satisfied: scikit-learn>=0.22.1 in /opt/conda/lib/python3.6/site-packages (from fairlearn) (0.22.2)\n",
      "Requirement already satisfied: python-dateutil>=2.6.1 in /opt/conda/lib/python3.6/site-packages (from pandas>=0.25.1->fairlearn) (2.8.1)\n",
      "Requirement already satisfied: pytz>=2017.2 in /opt/conda/lib/python3.6/site-packages (from pandas>=0.25.1->fairlearn) (2018.9)\n",
      "Requirement already satisfied: joblib>=0.11 in /opt/conda/lib/python3.6/site-packages (from scikit-learn>=0.22.1->fairlearn) (0.14.1)\n",
      "Requirement already satisfied: six>=1.5 in /opt/conda/lib/python3.6/site-packages (from python-dateutil>=2.6.1->pandas>=0.25.1->fairlearn) (1.14.0)\n",
      "Installing collected packages: fairlearn\n",
      "Successfully installed fairlearn-0.7.0\n",
      "\u001b[33mWARNING: You are using pip version 20.1; however, version 21.3.1 is available.\n",
      "You should consider upgrading via the '/opt/conda/bin/python -m pip install --upgrade pip' command.\u001b[0m\n",
      "Note: you may need to restart the kernel to use updated packages.\n"
     ]
    }
   ],
   "source": [
    "pip install fairlearn"
   ]
  },
  {
   "cell_type": "code",
   "execution_count": 2,
   "metadata": {},
   "outputs": [
    {
     "data": {
      "text/plain": [
       "Male      32650\n",
       "Female    16192\n",
       "Name: sex, dtype: int64"
      ]
     },
     "execution_count": 2,
     "metadata": {},
     "output_type": "execute_result"
    }
   ],
   "source": [
    "import numpy as np\n",
    "import pandas as pd\n",
    "import matplotlib.pyplot as plt\n",
    "from sklearn.datasets import fetch_openml\n",
    "data = fetch_openml(data_id=1590, as_frame=True)\n",
    "X = pd.get_dummies(data.data)\n",
    "y_true = (data.target == '>50K') * 1\n",
    "sex = data.data['sex']\n",
    "race = data.data['race']\n",
    "ed = data.data['education']\n",
    "sex.value_counts()"
   ]
  },
  {
   "cell_type": "code",
   "execution_count": 3,
   "metadata": {},
   "outputs": [
    {
     "name": "stdout",
     "output_type": "stream",
     "text": [
      "# of rows:  48842\n"
     ]
    },
    {
     "data": {
      "text/html": [
       "<div>\n",
       "<style scoped>\n",
       "    .dataframe tbody tr th:only-of-type {\n",
       "        vertical-align: middle;\n",
       "    }\n",
       "\n",
       "    .dataframe tbody tr th {\n",
       "        vertical-align: top;\n",
       "    }\n",
       "\n",
       "    .dataframe thead th {\n",
       "        text-align: right;\n",
       "    }\n",
       "</style>\n",
       "<table border=\"1\" class=\"dataframe\">\n",
       "  <thead>\n",
       "    <tr style=\"text-align: right;\">\n",
       "      <th></th>\n",
       "      <th>age</th>\n",
       "      <th>workclass</th>\n",
       "      <th>fnlwgt</th>\n",
       "      <th>education</th>\n",
       "      <th>education-num</th>\n",
       "      <th>marital-status</th>\n",
       "      <th>occupation</th>\n",
       "      <th>relationship</th>\n",
       "      <th>race</th>\n",
       "      <th>sex</th>\n",
       "      <th>capital-gain</th>\n",
       "      <th>capital-loss</th>\n",
       "      <th>hours-per-week</th>\n",
       "      <th>native-country</th>\n",
       "      <th>target</th>\n",
       "    </tr>\n",
       "  </thead>\n",
       "  <tbody>\n",
       "    <tr>\n",
       "      <th>0</th>\n",
       "      <td>25.0</td>\n",
       "      <td>Private</td>\n",
       "      <td>226802.0</td>\n",
       "      <td>11th</td>\n",
       "      <td>7.0</td>\n",
       "      <td>Never-married</td>\n",
       "      <td>Machine-op-inspct</td>\n",
       "      <td>Own-child</td>\n",
       "      <td>Black</td>\n",
       "      <td>Male</td>\n",
       "      <td>0.0</td>\n",
       "      <td>0.0</td>\n",
       "      <td>40.0</td>\n",
       "      <td>United-States</td>\n",
       "      <td>&lt;=50K</td>\n",
       "    </tr>\n",
       "    <tr>\n",
       "      <th>1</th>\n",
       "      <td>38.0</td>\n",
       "      <td>Private</td>\n",
       "      <td>89814.0</td>\n",
       "      <td>HS-grad</td>\n",
       "      <td>9.0</td>\n",
       "      <td>Married-civ-spouse</td>\n",
       "      <td>Farming-fishing</td>\n",
       "      <td>Husband</td>\n",
       "      <td>White</td>\n",
       "      <td>Male</td>\n",
       "      <td>0.0</td>\n",
       "      <td>0.0</td>\n",
       "      <td>50.0</td>\n",
       "      <td>United-States</td>\n",
       "      <td>&lt;=50K</td>\n",
       "    </tr>\n",
       "    <tr>\n",
       "      <th>2</th>\n",
       "      <td>28.0</td>\n",
       "      <td>Local-gov</td>\n",
       "      <td>336951.0</td>\n",
       "      <td>Assoc-acdm</td>\n",
       "      <td>12.0</td>\n",
       "      <td>Married-civ-spouse</td>\n",
       "      <td>Protective-serv</td>\n",
       "      <td>Husband</td>\n",
       "      <td>White</td>\n",
       "      <td>Male</td>\n",
       "      <td>0.0</td>\n",
       "      <td>0.0</td>\n",
       "      <td>40.0</td>\n",
       "      <td>United-States</td>\n",
       "      <td>&gt;50K</td>\n",
       "    </tr>\n",
       "    <tr>\n",
       "      <th>3</th>\n",
       "      <td>44.0</td>\n",
       "      <td>Private</td>\n",
       "      <td>160323.0</td>\n",
       "      <td>Some-college</td>\n",
       "      <td>10.0</td>\n",
       "      <td>Married-civ-spouse</td>\n",
       "      <td>Machine-op-inspct</td>\n",
       "      <td>Husband</td>\n",
       "      <td>Black</td>\n",
       "      <td>Male</td>\n",
       "      <td>7688.0</td>\n",
       "      <td>0.0</td>\n",
       "      <td>40.0</td>\n",
       "      <td>United-States</td>\n",
       "      <td>&gt;50K</td>\n",
       "    </tr>\n",
       "    <tr>\n",
       "      <th>4</th>\n",
       "      <td>18.0</td>\n",
       "      <td>NaN</td>\n",
       "      <td>103497.0</td>\n",
       "      <td>Some-college</td>\n",
       "      <td>10.0</td>\n",
       "      <td>Never-married</td>\n",
       "      <td>NaN</td>\n",
       "      <td>Own-child</td>\n",
       "      <td>White</td>\n",
       "      <td>Female</td>\n",
       "      <td>0.0</td>\n",
       "      <td>0.0</td>\n",
       "      <td>30.0</td>\n",
       "      <td>United-States</td>\n",
       "      <td>&lt;=50K</td>\n",
       "    </tr>\n",
       "    <tr>\n",
       "      <th>...</th>\n",
       "      <td>...</td>\n",
       "      <td>...</td>\n",
       "      <td>...</td>\n",
       "      <td>...</td>\n",
       "      <td>...</td>\n",
       "      <td>...</td>\n",
       "      <td>...</td>\n",
       "      <td>...</td>\n",
       "      <td>...</td>\n",
       "      <td>...</td>\n",
       "      <td>...</td>\n",
       "      <td>...</td>\n",
       "      <td>...</td>\n",
       "      <td>...</td>\n",
       "      <td>...</td>\n",
       "    </tr>\n",
       "    <tr>\n",
       "      <th>48837</th>\n",
       "      <td>27.0</td>\n",
       "      <td>Private</td>\n",
       "      <td>257302.0</td>\n",
       "      <td>Assoc-acdm</td>\n",
       "      <td>12.0</td>\n",
       "      <td>Married-civ-spouse</td>\n",
       "      <td>Tech-support</td>\n",
       "      <td>Wife</td>\n",
       "      <td>White</td>\n",
       "      <td>Female</td>\n",
       "      <td>0.0</td>\n",
       "      <td>0.0</td>\n",
       "      <td>38.0</td>\n",
       "      <td>United-States</td>\n",
       "      <td>&lt;=50K</td>\n",
       "    </tr>\n",
       "    <tr>\n",
       "      <th>48838</th>\n",
       "      <td>40.0</td>\n",
       "      <td>Private</td>\n",
       "      <td>154374.0</td>\n",
       "      <td>HS-grad</td>\n",
       "      <td>9.0</td>\n",
       "      <td>Married-civ-spouse</td>\n",
       "      <td>Machine-op-inspct</td>\n",
       "      <td>Husband</td>\n",
       "      <td>White</td>\n",
       "      <td>Male</td>\n",
       "      <td>0.0</td>\n",
       "      <td>0.0</td>\n",
       "      <td>40.0</td>\n",
       "      <td>United-States</td>\n",
       "      <td>&gt;50K</td>\n",
       "    </tr>\n",
       "    <tr>\n",
       "      <th>48839</th>\n",
       "      <td>58.0</td>\n",
       "      <td>Private</td>\n",
       "      <td>151910.0</td>\n",
       "      <td>HS-grad</td>\n",
       "      <td>9.0</td>\n",
       "      <td>Widowed</td>\n",
       "      <td>Adm-clerical</td>\n",
       "      <td>Unmarried</td>\n",
       "      <td>White</td>\n",
       "      <td>Female</td>\n",
       "      <td>0.0</td>\n",
       "      <td>0.0</td>\n",
       "      <td>40.0</td>\n",
       "      <td>United-States</td>\n",
       "      <td>&lt;=50K</td>\n",
       "    </tr>\n",
       "    <tr>\n",
       "      <th>48840</th>\n",
       "      <td>22.0</td>\n",
       "      <td>Private</td>\n",
       "      <td>201490.0</td>\n",
       "      <td>HS-grad</td>\n",
       "      <td>9.0</td>\n",
       "      <td>Never-married</td>\n",
       "      <td>Adm-clerical</td>\n",
       "      <td>Own-child</td>\n",
       "      <td>White</td>\n",
       "      <td>Male</td>\n",
       "      <td>0.0</td>\n",
       "      <td>0.0</td>\n",
       "      <td>20.0</td>\n",
       "      <td>United-States</td>\n",
       "      <td>&lt;=50K</td>\n",
       "    </tr>\n",
       "    <tr>\n",
       "      <th>48841</th>\n",
       "      <td>52.0</td>\n",
       "      <td>Self-emp-inc</td>\n",
       "      <td>287927.0</td>\n",
       "      <td>HS-grad</td>\n",
       "      <td>9.0</td>\n",
       "      <td>Married-civ-spouse</td>\n",
       "      <td>Exec-managerial</td>\n",
       "      <td>Wife</td>\n",
       "      <td>White</td>\n",
       "      <td>Female</td>\n",
       "      <td>15024.0</td>\n",
       "      <td>0.0</td>\n",
       "      <td>40.0</td>\n",
       "      <td>United-States</td>\n",
       "      <td>&gt;50K</td>\n",
       "    </tr>\n",
       "  </tbody>\n",
       "</table>\n",
       "<p>48842 rows × 15 columns</p>\n",
       "</div>"
      ],
      "text/plain": [
       "        age     workclass    fnlwgt     education  education-num  \\\n",
       "0      25.0       Private  226802.0          11th            7.0   \n",
       "1      38.0       Private   89814.0       HS-grad            9.0   \n",
       "2      28.0     Local-gov  336951.0    Assoc-acdm           12.0   \n",
       "3      44.0       Private  160323.0  Some-college           10.0   \n",
       "4      18.0           NaN  103497.0  Some-college           10.0   \n",
       "...     ...           ...       ...           ...            ...   \n",
       "48837  27.0       Private  257302.0    Assoc-acdm           12.0   \n",
       "48838  40.0       Private  154374.0       HS-grad            9.0   \n",
       "48839  58.0       Private  151910.0       HS-grad            9.0   \n",
       "48840  22.0       Private  201490.0       HS-grad            9.0   \n",
       "48841  52.0  Self-emp-inc  287927.0       HS-grad            9.0   \n",
       "\n",
       "           marital-status         occupation relationship   race     sex  \\\n",
       "0           Never-married  Machine-op-inspct    Own-child  Black    Male   \n",
       "1      Married-civ-spouse    Farming-fishing      Husband  White    Male   \n",
       "2      Married-civ-spouse    Protective-serv      Husband  White    Male   \n",
       "3      Married-civ-spouse  Machine-op-inspct      Husband  Black    Male   \n",
       "4           Never-married                NaN    Own-child  White  Female   \n",
       "...                   ...                ...          ...    ...     ...   \n",
       "48837  Married-civ-spouse       Tech-support         Wife  White  Female   \n",
       "48838  Married-civ-spouse  Machine-op-inspct      Husband  White    Male   \n",
       "48839             Widowed       Adm-clerical    Unmarried  White  Female   \n",
       "48840       Never-married       Adm-clerical    Own-child  White    Male   \n",
       "48841  Married-civ-spouse    Exec-managerial         Wife  White  Female   \n",
       "\n",
       "       capital-gain  capital-loss  hours-per-week native-country target  \n",
       "0               0.0           0.0            40.0  United-States  <=50K  \n",
       "1               0.0           0.0            50.0  United-States  <=50K  \n",
       "2               0.0           0.0            40.0  United-States   >50K  \n",
       "3            7688.0           0.0            40.0  United-States   >50K  \n",
       "4               0.0           0.0            30.0  United-States  <=50K  \n",
       "...             ...           ...             ...            ...    ...  \n",
       "48837           0.0           0.0            38.0  United-States  <=50K  \n",
       "48838           0.0           0.0            40.0  United-States   >50K  \n",
       "48839           0.0           0.0            40.0  United-States  <=50K  \n",
       "48840           0.0           0.0            20.0  United-States  <=50K  \n",
       "48841       15024.0           0.0            40.0  United-States   >50K  \n",
       "\n",
       "[48842 rows x 15 columns]"
      ]
     },
     "execution_count": 3,
     "metadata": {},
     "output_type": "execute_result"
    }
   ],
   "source": [
    "from sklearn.datasets import fetch_openml\n",
    "data = fetch_openml(data_id=1590, as_frame=True)\n",
    "df = pd.DataFrame(data=data.data, columns=data.feature_names)\n",
    "df['target'] = data.target\n",
    "print('# of rows: ', len(df))\n",
    "df"
   ]
  },
  {
   "cell_type": "code",
   "execution_count": 4,
   "metadata": {},
   "outputs": [
    {
     "data": {
      "text/plain": [
       "{'data':         age     workclass    fnlwgt     education  education-num  \\\n",
       " 0      25.0       Private  226802.0          11th            7.0   \n",
       " 1      38.0       Private   89814.0       HS-grad            9.0   \n",
       " 2      28.0     Local-gov  336951.0    Assoc-acdm           12.0   \n",
       " 3      44.0       Private  160323.0  Some-college           10.0   \n",
       " 4      18.0           NaN  103497.0  Some-college           10.0   \n",
       " ...     ...           ...       ...           ...            ...   \n",
       " 48837  27.0       Private  257302.0    Assoc-acdm           12.0   \n",
       " 48838  40.0       Private  154374.0       HS-grad            9.0   \n",
       " 48839  58.0       Private  151910.0       HS-grad            9.0   \n",
       " 48840  22.0       Private  201490.0       HS-grad            9.0   \n",
       " 48841  52.0  Self-emp-inc  287927.0       HS-grad            9.0   \n",
       " \n",
       "            marital-status         occupation relationship   race     sex  \\\n",
       " 0           Never-married  Machine-op-inspct    Own-child  Black    Male   \n",
       " 1      Married-civ-spouse    Farming-fishing      Husband  White    Male   \n",
       " 2      Married-civ-spouse    Protective-serv      Husband  White    Male   \n",
       " 3      Married-civ-spouse  Machine-op-inspct      Husband  Black    Male   \n",
       " 4           Never-married                NaN    Own-child  White  Female   \n",
       " ...                   ...                ...          ...    ...     ...   \n",
       " 48837  Married-civ-spouse       Tech-support         Wife  White  Female   \n",
       " 48838  Married-civ-spouse  Machine-op-inspct      Husband  White    Male   \n",
       " 48839             Widowed       Adm-clerical    Unmarried  White  Female   \n",
       " 48840       Never-married       Adm-clerical    Own-child  White    Male   \n",
       " 48841  Married-civ-spouse    Exec-managerial         Wife  White  Female   \n",
       " \n",
       "        capital-gain  capital-loss  hours-per-week native-country  \n",
       " 0               0.0           0.0            40.0  United-States  \n",
       " 1               0.0           0.0            50.0  United-States  \n",
       " 2               0.0           0.0            40.0  United-States  \n",
       " 3            7688.0           0.0            40.0  United-States  \n",
       " 4               0.0           0.0            30.0  United-States  \n",
       " ...             ...           ...             ...            ...  \n",
       " 48837           0.0           0.0            38.0  United-States  \n",
       " 48838           0.0           0.0            40.0  United-States  \n",
       " 48839           0.0           0.0            40.0  United-States  \n",
       " 48840           0.0           0.0            20.0  United-States  \n",
       " 48841       15024.0           0.0            40.0  United-States  \n",
       " \n",
       " [48842 rows x 14 columns],\n",
       " 'target': 0        <=50K\n",
       " 1        <=50K\n",
       " 2         >50K\n",
       " 3         >50K\n",
       " 4        <=50K\n",
       "          ...  \n",
       " 48837    <=50K\n",
       " 48838     >50K\n",
       " 48839    <=50K\n",
       " 48840    <=50K\n",
       " 48841     >50K\n",
       " Name: class, Length: 48842, dtype: category\n",
       " Categories (2, object): [>50K, <=50K],\n",
       " 'frame':         age     workclass    fnlwgt     education  education-num  \\\n",
       " 0      25.0       Private  226802.0          11th            7.0   \n",
       " 1      38.0       Private   89814.0       HS-grad            9.0   \n",
       " 2      28.0     Local-gov  336951.0    Assoc-acdm           12.0   \n",
       " 3      44.0       Private  160323.0  Some-college           10.0   \n",
       " 4      18.0           NaN  103497.0  Some-college           10.0   \n",
       " ...     ...           ...       ...           ...            ...   \n",
       " 48837  27.0       Private  257302.0    Assoc-acdm           12.0   \n",
       " 48838  40.0       Private  154374.0       HS-grad            9.0   \n",
       " 48839  58.0       Private  151910.0       HS-grad            9.0   \n",
       " 48840  22.0       Private  201490.0       HS-grad            9.0   \n",
       " 48841  52.0  Self-emp-inc  287927.0       HS-grad            9.0   \n",
       " \n",
       "            marital-status         occupation relationship   race     sex  \\\n",
       " 0           Never-married  Machine-op-inspct    Own-child  Black    Male   \n",
       " 1      Married-civ-spouse    Farming-fishing      Husband  White    Male   \n",
       " 2      Married-civ-spouse    Protective-serv      Husband  White    Male   \n",
       " 3      Married-civ-spouse  Machine-op-inspct      Husband  Black    Male   \n",
       " 4           Never-married                NaN    Own-child  White  Female   \n",
       " ...                   ...                ...          ...    ...     ...   \n",
       " 48837  Married-civ-spouse       Tech-support         Wife  White  Female   \n",
       " 48838  Married-civ-spouse  Machine-op-inspct      Husband  White    Male   \n",
       " 48839             Widowed       Adm-clerical    Unmarried  White  Female   \n",
       " 48840       Never-married       Adm-clerical    Own-child  White    Male   \n",
       " 48841  Married-civ-spouse    Exec-managerial         Wife  White  Female   \n",
       " \n",
       "        capital-gain  capital-loss  hours-per-week native-country  class  \n",
       " 0               0.0           0.0            40.0  United-States  <=50K  \n",
       " 1               0.0           0.0            50.0  United-States  <=50K  \n",
       " 2               0.0           0.0            40.0  United-States   >50K  \n",
       " 3            7688.0           0.0            40.0  United-States   >50K  \n",
       " 4               0.0           0.0            30.0  United-States  <=50K  \n",
       " ...             ...           ...             ...            ...    ...  \n",
       " 48837           0.0           0.0            38.0  United-States  <=50K  \n",
       " 48838           0.0           0.0            40.0  United-States   >50K  \n",
       " 48839           0.0           0.0            40.0  United-States  <=50K  \n",
       " 48840           0.0           0.0            20.0  United-States  <=50K  \n",
       " 48841       15024.0           0.0            40.0  United-States   >50K  \n",
       " \n",
       " [48842 rows x 15 columns],\n",
       " 'feature_names': ['age',\n",
       "  'workclass',\n",
       "  'fnlwgt',\n",
       "  'education',\n",
       "  'education-num',\n",
       "  'marital-status',\n",
       "  'occupation',\n",
       "  'relationship',\n",
       "  'race',\n",
       "  'sex',\n",
       "  'capital-gain',\n",
       "  'capital-loss',\n",
       "  'hours-per-week',\n",
       "  'native-country'],\n",
       " 'target_names': ['class'],\n",
       " 'DESCR': '**Author**: Ronny Kohavi and Barry Becker  \\n**Source**: [UCI](https://archive.ics.uci.edu/ml/datasets/Adult) - 1996  \\n**Please cite**: Ron Kohavi, \"Scaling Up the Accuracy of Naive-Bayes Classifiers: a Decision-Tree Hybrid\", Proceedings of the Second International Conference on Knowledge Discovery and Data Mining, 1996  \\n\\nPrediction task is to determine whether a person makes over 50K a year. Extraction was done by Barry Becker from the 1994 Census database. A set of reasonably clean records was extracted using the following conditions: ((AAGE>16) && (AGI>100) && (AFNLWGT>1)&& (HRSWK>0))\\n\\nThis is the original version from the UCI repository, with training and test sets merged.\\n\\n### Variable description\\n\\nVariables are all self-explanatory except __fnlwgt__. This is a proxy for the demographic background of the people: \"People with similar demographic characteristics should have similar weights\". This similarity-statement is not transferable across the 51 different states.\\n\\nDescription from the donor of the database: \\n\\nThe weights on the CPS files are controlled to independent estimates of the civilian noninstitutional population of the US.  These are prepared monthly for us by Population Division here at the Census Bureau. We use 3 sets of controls. These are:\\n1.  A single cell estimate of the population 16+ for each state.\\n2.  Controls for Hispanic Origin by age and sex.\\n3.  Controls by Race, age and sex.\\n\\nWe use all three sets of controls in our weighting program and \"rake\" through them 6 times so that by the end we come back to all the controls we used. The term estimate refers to population totals derived from CPS by creating \"weighted tallies\" of any specified socio-economic characteristics of the population. People with similar demographic characteristics should have similar weights. There is one important caveat to remember about this statement. That is that since the CPS sample is actually a collection of 51 state samples, each with its own probability of selection, the statement only applies within state.\\n\\n\\n### Relevant papers  \\n\\nRonny Kohavi and Barry Becker. Data Mining and Visualization, Silicon Graphics.  \\ne-mail: ronnyk \\'@\\' live.com for questions.\\n\\nDownloaded from openml.org.',\n",
       " 'details': {'id': '1590',\n",
       "  'name': 'adult',\n",
       "  'version': '2',\n",
       "  'description_version': '1',\n",
       "  'format': 'ARFF',\n",
       "  'upload_date': '2015-06-09T16:39:06',\n",
       "  'licence': 'Public',\n",
       "  'url': 'https://www.openml.org/data/v1/download/1595261/adult.arff',\n",
       "  'file_id': '1595261',\n",
       "  'default_target_attribute': 'class',\n",
       "  'version_label': '2',\n",
       "  'tag': ['OpenML-CC18',\n",
       "   'OpenML100',\n",
       "   'study_123',\n",
       "   'study_135',\n",
       "   'study_14',\n",
       "   'study_144',\n",
       "   'study_218',\n",
       "   'study_241',\n",
       "   'study_34',\n",
       "   'study_99'],\n",
       "  'visibility': 'public',\n",
       "  'status': 'active',\n",
       "  'processing_date': '2018-10-03 21:37:04',\n",
       "  'md5_checksum': 'bb6510925e5d4b23d136715febb2cdf5'},\n",
       " 'categories': None,\n",
       " 'url': 'https://www.openml.org/d/1590'}"
      ]
     },
     "execution_count": 4,
     "metadata": {},
     "output_type": "execute_result"
    }
   ],
   "source": [
    "data"
   ]
  },
  {
   "cell_type": "code",
   "execution_count": 10,
   "metadata": {},
   "outputs": [
    {
     "name": "stdout",
     "output_type": "stream",
     "text": [
      "Overall accuracy: 0.844355\n",
      "By group accuracy: \n",
      "sex\n",
      "Female    0.925148\n",
      "Male      0.804288\n",
      "Name: accuracy_score, dtype: object\n"
     ]
    }
   ],
   "source": [
    "import fairlearn.metrics as fm\n",
    "from sklearn import metrics as skm\n",
    "from sklearn.tree import DecisionTreeClassifier\n",
    "\n",
    "classifier = DecisionTreeClassifier(min_samples_leaf=10, max_depth=4)\n",
    "classifier.fit(X, y_true)\n",
    "\n",
    "y_pred = classifier.predict(X)\n",
    "gm = fm.MetricFrame(metrics=skm.accuracy_score, y_true=y_true, y_pred=y_pred, sensitive_features=sex)\n",
    "\n",
    "print(\"Overall accuracy: %f\" % gm.overall)\n",
    "print(\"By group accuracy: \")\n",
    "print(gm.by_group)"
   ]
  },
  {
   "cell_type": "code",
   "execution_count": 11,
   "metadata": {},
   "outputs": [
    {
     "name": "stderr",
     "output_type": "stream",
     "text": [
      "Found 32 subgroups. Evaluation may be slow\n"
     ]
    }
   ],
   "source": [
    "sr = fm.MetricFrame(metrics=fm.selection_rate, y_true=y_true, y_pred=y_pred, \n",
    "                 sensitive_features=sex, control_features=ed)"
   ]
  },
  {
   "cell_type": "code",
   "execution_count": 17,
   "metadata": {},
   "outputs": [
    {
     "data": {
      "text/plain": [
       "education\n",
       "10th            0.003050\n",
       "11th            0.016039\n",
       "12th            0.013198\n",
       "1st-4th         0.005376\n",
       "5th-6th         0.010451\n",
       "7th-8th         0.005598\n",
       "9th             0.004783\n",
       "Assoc-acdm      0.031977\n",
       "Assoc-voc       0.021560\n",
       "Bachelors       0.466774\n",
       "Doctorate       0.553107\n",
       "HS-grad         0.014670\n",
       "Masters         0.497604\n",
       "Preschool       0.033898\n",
       "Prof-school     0.471121\n",
       "Some-college    0.030595\n",
       "Name: selection_rate, dtype: float64"
      ]
     },
     "execution_count": 17,
     "metadata": {},
     "output_type": "execute_result"
    }
   ],
   "source": [
    "sr.difference()"
   ]
  },
  {
   "cell_type": "code",
   "execution_count": 39,
   "metadata": {},
   "outputs": [
    {
     "data": {
      "text/plain": [
       "education     sex   \n",
       "10th          Female    0.00875274\n",
       "              Male       0.0118026\n",
       "11th          Female    0.00461538\n",
       "              Male        0.020654\n",
       "12th          Female    0.00473934\n",
       "              Male       0.0179372\n",
       "1st-4th       Female             0\n",
       "              Male      0.00537634\n",
       "5th-6th       Female    0.00787402\n",
       "              Male       0.0183246\n",
       "7th-8th       Female     0.0083682\n",
       "              Male       0.0139665\n",
       "9th           Female    0.00454545\n",
       "              Male      0.00932836\n",
       "Assoc-acdm    Female     0.0255183\n",
       "              Male       0.0574949\n",
       "Assoc-voc     Female     0.0326975\n",
       "              Male       0.0542577\n",
       "Bachelors     Female      0.214372\n",
       "              Male        0.681146\n",
       "Doctorate     Female      0.274336\n",
       "              Male        0.827443\n",
       "HS-grad       Female     0.0166765\n",
       "              Male       0.0313465\n",
       "Masters       Female      0.265089\n",
       "              Male        0.762693\n",
       "Preschool     Female             0\n",
       "              Male       0.0338983\n",
       "Prof-school   Female      0.363636\n",
       "              Male        0.834758\n",
       "Some-college  Female     0.0138822\n",
       "              Male       0.0444776\n",
       "Name: selection_rate, dtype: object"
      ]
     },
     "execution_count": 39,
     "metadata": {},
     "output_type": "execute_result"
    }
   ],
   "source": [
    "sr.by_group"
   ]
  },
  {
   "cell_type": "code",
   "execution_count": 46,
   "metadata": {},
   "outputs": [
    {
     "ename": "TypeError",
     "evalue": "__call__() missing 1 required keyword-only argument: 'sensitive_features'",
     "output_type": "error",
     "traceback": [
      "\u001b[0;31m---------------------------------------------------------------------------\u001b[0m",
      "\u001b[0;31mTypeError\u001b[0m                                 Traceback (most recent call last)",
      "\u001b[0;32m<ipython-input-46-4d4abd20a42e>\u001b[0m in \u001b[0;36m<module>\u001b[0;34m\u001b[0m\n\u001b[1;32m      1\u001b[0m sr = MetricFrame(metrics=fm.accuracy_score_ratio, y_true=y_true, y_pred=y_pred, \n\u001b[0;32m----> 2\u001b[0;31m                  sensitive_features=sex)\n\u001b[0m\u001b[1;32m      3\u001b[0m \u001b[0msr\u001b[0m\u001b[0;34m.\u001b[0m\u001b[0moverall\u001b[0m\u001b[0;34m\u001b[0m\u001b[0;34m\u001b[0m\u001b[0m\n",
      "\u001b[0;32m/opt/conda/lib/python3.6/site-packages/fairlearn/metrics/_metric_frame.py\u001b[0m in \u001b[0;36mcompatible_metric_frame_init\u001b[0;34m(self, metric, *args, **kwargs)\u001b[0m\n\u001b[1;32m     82\u001b[0m                               \u001b[0;34m**\u001b[0m\u001b[0mmetric_arg_dict\u001b[0m\u001b[0;34m,\u001b[0m\u001b[0;34m\u001b[0m\u001b[0;34m\u001b[0m\u001b[0m\n\u001b[1;32m     83\u001b[0m                               \u001b[0;34m**\u001b[0m\u001b[0mpositional_dict\u001b[0m\u001b[0;34m,\u001b[0m\u001b[0;34m\u001b[0m\u001b[0;34m\u001b[0m\u001b[0m\n\u001b[0;32m---> 84\u001b[0;31m                               **kwargs)\n\u001b[0m\u001b[1;32m     85\u001b[0m \u001b[0;34m\u001b[0m\u001b[0m\n\u001b[1;32m     86\u001b[0m     \u001b[0;32mreturn\u001b[0m \u001b[0mcompatible_metric_frame_init\u001b[0m\u001b[0;34m\u001b[0m\u001b[0;34m\u001b[0m\u001b[0m\n",
      "\u001b[0;32m/opt/conda/lib/python3.6/site-packages/fairlearn/metrics/_metric_frame.py\u001b[0m in \u001b[0;36m__init__\u001b[0;34m(self, metrics, y_true, y_pred, sensitive_features, control_features, sample_params)\u001b[0m\n\u001b[1;32m    225\u001b[0m             \u001b[0mnameset\u001b[0m\u001b[0;34m.\u001b[0m\u001b[0madd\u001b[0m\u001b[0;34m(\u001b[0m\u001b[0mname\u001b[0m\u001b[0;34m)\u001b[0m\u001b[0;34m\u001b[0m\u001b[0;34m\u001b[0m\u001b[0m\n\u001b[1;32m    226\u001b[0m \u001b[0;34m\u001b[0m\u001b[0m\n\u001b[0;32m--> 227\u001b[0;31m         \u001b[0mself\u001b[0m\u001b[0;34m.\u001b[0m\u001b[0m_overall\u001b[0m \u001b[0;34m=\u001b[0m \u001b[0mself\u001b[0m\u001b[0;34m.\u001b[0m\u001b[0m_compute_overall\u001b[0m\u001b[0;34m(\u001b[0m\u001b[0mfunc_dict\u001b[0m\u001b[0;34m,\u001b[0m \u001b[0my_t\u001b[0m\u001b[0;34m,\u001b[0m \u001b[0my_p\u001b[0m\u001b[0;34m,\u001b[0m \u001b[0mcf_list\u001b[0m\u001b[0;34m)\u001b[0m\u001b[0;34m\u001b[0m\u001b[0;34m\u001b[0m\u001b[0m\n\u001b[0m\u001b[1;32m    228\u001b[0m         \u001b[0mself\u001b[0m\u001b[0;34m.\u001b[0m\u001b[0m_by_group\u001b[0m \u001b[0;34m=\u001b[0m \u001b[0mself\u001b[0m\u001b[0;34m.\u001b[0m\u001b[0m_compute_by_group\u001b[0m\u001b[0;34m(\u001b[0m\u001b[0mfunc_dict\u001b[0m\u001b[0;34m,\u001b[0m \u001b[0my_t\u001b[0m\u001b[0;34m,\u001b[0m \u001b[0my_p\u001b[0m\u001b[0;34m,\u001b[0m \u001b[0msf_list\u001b[0m\u001b[0;34m,\u001b[0m \u001b[0mcf_list\u001b[0m\u001b[0;34m)\u001b[0m\u001b[0;34m\u001b[0m\u001b[0;34m\u001b[0m\u001b[0m\n\u001b[1;32m    229\u001b[0m \u001b[0;34m\u001b[0m\u001b[0m\n",
      "\u001b[0;32m/opt/conda/lib/python3.6/site-packages/fairlearn/metrics/_metric_frame.py\u001b[0m in \u001b[0;36m_compute_overall\u001b[0;34m(self, func_dict, y_true, y_pred, cf_list)\u001b[0m\n\u001b[1;32m    232\u001b[0m             \u001b[0mresult\u001b[0m \u001b[0;34m=\u001b[0m \u001b[0mpd\u001b[0m\u001b[0;34m.\u001b[0m\u001b[0mSeries\u001b[0m\u001b[0;34m(\u001b[0m\u001b[0mindex\u001b[0m\u001b[0;34m=\u001b[0m\u001b[0mfunc_dict\u001b[0m\u001b[0;34m.\u001b[0m\u001b[0mkeys\u001b[0m\u001b[0;34m(\u001b[0m\u001b[0;34m)\u001b[0m\u001b[0;34m,\u001b[0m \u001b[0mdtype\u001b[0m\u001b[0;34m=\u001b[0m\u001b[0;34m'object'\u001b[0m\u001b[0;34m)\u001b[0m\u001b[0;34m\u001b[0m\u001b[0;34m\u001b[0m\u001b[0m\n\u001b[1;32m    233\u001b[0m             \u001b[0;32mfor\u001b[0m \u001b[0mfunc_name\u001b[0m \u001b[0;32min\u001b[0m \u001b[0mfunc_dict\u001b[0m\u001b[0;34m:\u001b[0m\u001b[0;34m\u001b[0m\u001b[0;34m\u001b[0m\u001b[0m\n\u001b[0;32m--> 234\u001b[0;31m                 \u001b[0mmetric_value\u001b[0m \u001b[0;34m=\u001b[0m \u001b[0mfunc_dict\u001b[0m\u001b[0;34m[\u001b[0m\u001b[0mfunc_name\u001b[0m\u001b[0;34m]\u001b[0m\u001b[0;34m.\u001b[0m\u001b[0mevaluate_all\u001b[0m\u001b[0;34m(\u001b[0m\u001b[0my_true\u001b[0m\u001b[0;34m,\u001b[0m \u001b[0my_pred\u001b[0m\u001b[0;34m)\u001b[0m\u001b[0;34m\u001b[0m\u001b[0;34m\u001b[0m\u001b[0m\n\u001b[0m\u001b[1;32m    235\u001b[0m                 \u001b[0mresult\u001b[0m\u001b[0;34m[\u001b[0m\u001b[0mfunc_name\u001b[0m\u001b[0;34m]\u001b[0m \u001b[0;34m=\u001b[0m \u001b[0mmetric_value\u001b[0m\u001b[0;34m\u001b[0m\u001b[0;34m\u001b[0m\u001b[0m\n\u001b[1;32m    236\u001b[0m         \u001b[0;32melse\u001b[0m\u001b[0;34m:\u001b[0m\u001b[0;34m\u001b[0m\u001b[0;34m\u001b[0m\u001b[0m\n",
      "\u001b[0;32m/opt/conda/lib/python3.6/site-packages/fairlearn/metrics/_function_container.py\u001b[0m in \u001b[0;36mevaluate_all\u001b[0;34m(self, y_true, y_pred)\u001b[0m\n\u001b[1;32m    107\u001b[0m                      y_pred) -> Any:\n\u001b[1;32m    108\u001b[0m         \u001b[0;34m\"\"\"Evaluate the metric on all data.\"\"\"\u001b[0m\u001b[0;34m\u001b[0m\u001b[0;34m\u001b[0m\u001b[0m\n\u001b[0;32m--> 109\u001b[0;31m         \u001b[0;32mreturn\u001b[0m \u001b[0mself\u001b[0m\u001b[0;34m.\u001b[0m\u001b[0mfunc_\u001b[0m\u001b[0;34m(\u001b[0m\u001b[0my_true\u001b[0m\u001b[0;34m,\u001b[0m \u001b[0my_pred\u001b[0m\u001b[0;34m,\u001b[0m \u001b[0;34m**\u001b[0m\u001b[0mself\u001b[0m\u001b[0;34m.\u001b[0m\u001b[0msample_params_\u001b[0m\u001b[0;34m)\u001b[0m\u001b[0;34m\u001b[0m\u001b[0;34m\u001b[0m\u001b[0m\n\u001b[0m",
      "\u001b[0;31mTypeError\u001b[0m: __call__() missing 1 required keyword-only argument: 'sensitive_features'"
     ]
    }
   ],
   "source": [
    "sr = MetricFrame(metrics=fm.accuracy_score_ratio, y_true=y_true, y_pred=y_pred, \n",
    "                 sensitive_features=sex)\n",
    "sr.overall"
   ]
  },
  {
   "cell_type": "code",
   "execution_count": null,
   "metadata": {},
   "outputs": [],
   "source": []
  },
  {
   "cell_type": "code",
   "execution_count": null,
   "metadata": {},
   "outputs": [],
   "source": [
    "fm."
   ]
  },
  {
   "cell_type": "code",
   "execution_count": 11,
   "metadata": {},
   "outputs": [],
   "source": [
    "%matplotlib inline"
   ]
  },
  {
   "cell_type": "code",
   "execution_count": 44,
   "metadata": {},
   "outputs": [
    {
     "data": {
      "text/plain": [
       "array([[<matplotlib.axes._subplots.AxesSubplot object at 0x7f90ff3e87b8>,\n",
       "        <matplotlib.axes._subplots.AxesSubplot object at 0x7f90ff39ea90>,\n",
       "        <matplotlib.axes._subplots.AxesSubplot object at 0x7f90ff34e160>],\n",
       "       [<matplotlib.axes._subplots.AxesSubplot object at 0x7f90ff3767f0>,\n",
       "        <matplotlib.axes._subplots.AxesSubplot object at 0x7f90ff31ee80>,\n",
       "        <matplotlib.axes._subplots.AxesSubplot object at 0x7f90ff31eeb8>],\n",
       "       [<matplotlib.axes._subplots.AxesSubplot object at 0x7f90ff2f5be0>,\n",
       "        <matplotlib.axes._subplots.AxesSubplot object at 0x7f90ff2a92b0>,\n",
       "        <matplotlib.axes._subplots.AxesSubplot object at 0x7f90ff251940>]],\n",
       "      dtype=object)"
      ]
     },
     "execution_count": 44,
     "metadata": {},
     "output_type": "execute_result"
    },
    {
     "data": {
      "image/png": "[encoded data removed]",
      "text/plain": [
       "<Figure size 1440x720 with 9 Axes>"
      ]
     },
     "metadata": {
      "needs_background": "light"
     },
     "output_type": "display_data"
    }
   ],
   "source": [
    "sr.by_group.plot.bar(\n",
    "    subplots=True,\n",
    "    layout=[3, 3],\n",
    "    legend=False,\n",
    "    figsize=[20, 10],\n",
    "    title=\"Show all metrics\",\n",
    ")"
   ]
  },
  {
   "cell_type": "code",
   "execution_count": 17,
   "metadata": {},
   "outputs": [],
   "source": [
    "metrics = {\n",
    "    'accuracy': skm.accuracy_score,\n",
    "    'precision': skm.precision_score,\n",
    "    'recall': skm.recall_score,\n",
    "    'false positive rate': fm.false_positive_rate,\n",
    "    'true positive rate': fm.true_positive_rate,\n",
    "    'selection rate': fm.selection_rate,\n",
    "    'count': fm.count}\n"
   ]
  },
  {
   "cell_type": "code",
   "execution_count": 40,
   "metadata": {},
   "outputs": [
    {
     "name": "stderr",
     "output_type": "stream",
     "text": [
      "Found 32 subgroups. Evaluation may be slow\n",
      "/opt/conda/lib/python3.6/site-packages/sklearn/metrics/_classification.py:1272: UndefinedMetricWarning: Precision is ill-defined and being set to 0.0 due to no predicted samples. Use `zero_division` parameter to control this behavior.\n",
      "  _warn_prf(average, modifier, msg_start, len(result))\n",
      "/opt/conda/lib/python3.6/site-packages/sklearn/metrics/_classification.py:1272: UndefinedMetricWarning: Recall is ill-defined and being set to 0.0 due to no true samples. Use `zero_division` parameter to control this behavior.\n",
      "  _warn_prf(average, modifier, msg_start, len(result))\n"
     ]
    }
   ],
   "source": [
    "metric_frame = MetricFrame(metrics=metrics,\n",
    "                           y_true=y_true,\n",
    "                           y_pred=y_pred,\n",
    "                           sensitive_features=sex,\n",
    "                           control_features=ed)"
   ]
  },
  {
   "cell_type": "code",
   "execution_count": 45,
   "metadata": {},
   "outputs": [
    {
     "data": {
      "text/plain": [
       "array([[<matplotlib.axes._subplots.AxesSubplot object at 0x7f90ff3e0eb8>,\n",
       "        <matplotlib.axes._subplots.AxesSubplot object at 0x7f90fee4d0b8>,\n",
       "        <matplotlib.axes._subplots.AxesSubplot object at 0x7f90fee75630>],\n",
       "       [<matplotlib.axes._subplots.AxesSubplot object at 0x7f90fee1bba8>,\n",
       "        <matplotlib.axes._subplots.AxesSubplot object at 0x7f90fedcd160>,\n",
       "        <matplotlib.axes._subplots.AxesSubplot object at 0x7f90fedcd198>],\n",
       "       [<matplotlib.axes._subplots.AxesSubplot object at 0x7f90fed9cc50>,\n",
       "        <matplotlib.axes._subplots.AxesSubplot object at 0x7f90fed4e208>,\n",
       "        <matplotlib.axes._subplots.AxesSubplot object at 0x7f90fed78898>]],\n",
       "      dtype=object)"
      ]
     },
     "execution_count": 45,
     "metadata": {},
     "output_type": "execute_result"
    },
    {
     "data": {
      "image/png": "[encoded data removed]",
      "text/plain": [
       "<Figure size 1440x576 with 9 Axes>"
      ]
     },
     "metadata": {
      "needs_background": "light"
     },
     "output_type": "display_data"
    }
   ],
   "source": [
    "metric_frame.by_group.plot.bar(\n",
    "    subplots=True,\n",
    "    layout=[3, 3],\n",
    "    legend=False,\n",
    "    figsize=[20, 8],\n",
    "    title=\"Show all metrics\",\n",
    ")"
   ]
  },
  {
   "cell_type": "code",
   "execution_count": null,
   "metadata": {},
   "outputs": [],
   "source": []
  }
 ],
 "metadata": {
  "kernelspec": {
   "display_name": "Python 3",
   "language": "python",
   "name": "python3"
  },
  "language_info": {
   "codemirror_mode": {
    "name": "ipython",
    "version": 3
   },
   "file_extension": ".py",
   "mimetype": "text/x-python",
   "name": "python",
   "nbconvert_exporter": "python",
   "pygments_lexer": "ipython3",
   "version": "3.6.10"
  }
 },
 "nbformat": 4,
 "nbformat_minor": 4
}
