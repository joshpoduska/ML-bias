{
 "cells": [
  {
   "cell_type": "code",
   "execution_count": 1,
   "metadata": {
    "collapsed": false,
    "jupyter": {
     "outputs_hidden": false
    }
   },
   "outputs": [],
   "source": [
    "%matplotlib inline"
   ]
  },
  {
   "cell_type": "markdown",
   "metadata": {},
   "source": [
    "Metrics with Multiple Features\n",
    "==============================\n"
   ]
  },
  {
   "cell_type": "markdown",
   "metadata": {},
   "source": [
    "This notebook demonstrates the new API for metrics, which supports\n",
    "multiple sensitive and conditional features. This example does not\n",
    "contain a proper discussion of how fairness relates to the dataset used,\n",
    "although it does highlight issues which users may want to consider when\n",
    "analysing their datasets.\n",
    "\n",
    "We are going to consider a lending scenario, supposing that we have a\n",
    "model which predicts whether or not a particular customer will repay a\n",
    "loan. This could be used as the basis of deciding whether or not to\n",
    "offer that customer a loan. With traditional metrics, we would assess\n",
    "the model using:\n",
    "\n",
    "-   The 'true' values from the test set\n",
    "-   The model predictions from the test set\n",
    "\n",
    "Our fairness metrics compute group-based fairness statistics. To use\n",
    "these, we also need categorical columns from the test set. For this\n",
    "example, we will include:\n",
    "\n",
    "-   The sex of each individual (two unique values)\n",
    "-   The race of each individual (three unique values)\n",
    "-   The credit score band of each individual (three unique values)\n",
    "-   Whether the loan is considered 'large' or 'small'\n",
    "\n",
    "An individual's sex and race should not affect a lending decision, but\n",
    "it would be legitimate to consider an individual's credit score and the\n",
    "relative size of the loan which they desired.\n",
    "\n",
    "A real scenario will be more complicated, but this will serve to\n",
    "illustrate the use of the new metrics.\n",
    "\n",
    "Getting the Data\n",
    "================\n",
    "\n",
    "*This section may be skipped. It simply creates a dataset for\n",
    "illustrative purposes*\n",
    "\n",
    "We will use the well-known UCI 'Adult' dataset as the basis of this\n",
    "demonstration. This is not for a lending scenario, but we will regard it\n",
    "as one for the purposes of this example. We will use the existing 'race'\n",
    "and 'sex' columns (trimming the former to three unique values), and\n",
    "manufacture credit score bands and loan sizes from other columns. We\n",
    "start with some uncontroversial import statements:\n"
   ]
  },
  {
   "cell_type": "code",
   "execution_count": 2,
   "metadata": {
    "collapsed": false,
    "jupyter": {
     "outputs_hidden": false
    }
   },
   "outputs": [],
   "source": [
    "import functools\n",
    "import numpy as np\n",
    "\n",
    "import sklearn.metrics as skm\n",
    "from sklearn.compose import ColumnTransformer\n",
    "from sklearn.datasets import fetch_openml\n",
    "from sklearn.impute import SimpleImputer\n",
    "from sklearn.linear_model import LogisticRegression\n",
    "from sklearn.model_selection import train_test_split\n",
    "from sklearn.preprocessing import StandardScaler, OneHotEncoder\n",
    "from sklearn.compose import make_column_selector as selector\n",
    "from sklearn.pipeline import Pipeline\n",
    "\n",
    "from fairlearn.metrics import MetricFrame\n",
    "from fairlearn.metrics import selection_rate, count"
   ]
  },
  {
   "cell_type": "markdown",
   "metadata": {},
   "source": [
    "Next, we import the data:\n"
   ]
  },
  {
   "cell_type": "code",
   "execution_count": 3,
   "metadata": {
    "collapsed": false,
    "jupyter": {
     "outputs_hidden": false
    }
   },
   "outputs": [],
   "source": [
    "data = fetch_openml(data_id=1590, as_frame=True)\n",
    "X_raw = data.data\n",
    "y = (data.target == '>50K') * 1"
   ]
  },
  {
   "cell_type": "markdown",
   "metadata": {},
   "source": [
    "For purposes of clarity, we consolidate the 'race' column to have three\n",
    "unique values:\n"
   ]
  },
  {
   "cell_type": "code",
   "execution_count": 4,
   "metadata": {
    "collapsed": false,
    "jupyter": {
     "outputs_hidden": false
    }
   },
   "outputs": [
    {
     "name": "stdout",
     "output_type": "stream",
     "text": [
      "['Black' 'Other' 'White']\n"
     ]
    },
    {
     "name": "stderr",
     "output_type": "stream",
     "text": [
      "/opt/conda/lib/python3.6/site-packages/ipykernel_launcher.py:9: SettingWithCopyWarning: \n",
      "A value is trying to be set on a copy of a slice from a DataFrame.\n",
      "Try using .loc[row_indexer,col_indexer] = value instead\n",
      "\n",
      "See the caveats in the documentation: http://pandas.pydata.org/pandas-docs/stable/user_guide/indexing.html#returning-a-view-versus-a-copy\n",
      "  if __name__ == '__main__':\n"
     ]
    }
   ],
   "source": [
    "def race_transform(input_str):\n",
    "    \"\"\"Reduce values to White, Black and Other.\"\"\"\n",
    "    result = 'Other'\n",
    "    if input_str == 'White' or input_str == 'Black':\n",
    "        result = input_str\n",
    "    return result\n",
    "\n",
    "\n",
    "X_raw['race'] = X_raw['race'].map(race_transform).fillna('Other').astype('category')\n",
    "print(np.unique(X_raw['race']))"
   ]
  },
  {
   "cell_type": "markdown",
   "metadata": {},
   "source": [
    "Now, we manufacture the columns for the credit score band and requested\n",
    "loan size. These are wholly constructed, and not part of the actual\n",
    "dataset in any way. They are simply for illustrative purposes.\n"
   ]
  },
  {
   "cell_type": "code",
   "execution_count": 5,
   "metadata": {
    "collapsed": false,
    "jupyter": {
     "outputs_hidden": false
    }
   },
   "outputs": [
    {
     "name": "stderr",
     "output_type": "stream",
     "text": [
      "/opt/conda/lib/python3.6/site-packages/ipykernel_launcher.py:25: SettingWithCopyWarning: \n",
      "A value is trying to be set on a copy of a slice from a DataFrame.\n",
      "Try using .loc[row_indexer,col_indexer] = value instead\n",
      "\n",
      "See the caveats in the documentation: http://pandas.pydata.org/pandas-docs/stable/user_guide/indexing.html#returning-a-view-versus-a-copy\n",
      "/opt/conda/lib/python3.6/site-packages/ipykernel_launcher.py:26: SettingWithCopyWarning: \n",
      "A value is trying to be set on a copy of a slice from a DataFrame.\n",
      "Try using .loc[row_indexer,col_indexer] = value instead\n",
      "\n",
      "See the caveats in the documentation: http://pandas.pydata.org/pandas-docs/stable/user_guide/indexing.html#returning-a-view-versus-a-copy\n"
     ]
    },
    {
     "data": {
      "text/html": [
       "<div>\n",
       "<style scoped>\n",
       "    .dataframe tbody tr th:only-of-type {\n",
       "        vertical-align: middle;\n",
       "    }\n",
       "\n",
       "    .dataframe tbody tr th {\n",
       "        vertical-align: top;\n",
       "    }\n",
       "\n",
       "    .dataframe thead th {\n",
       "        text-align: right;\n",
       "    }\n",
       "</style>\n",
       "<table border=\"1\" class=\"dataframe\">\n",
       "  <thead>\n",
       "    <tr style=\"text-align: right;\">\n",
       "      <th></th>\n",
       "      <th>race</th>\n",
       "      <th>sex</th>\n",
       "      <th>Credit Score</th>\n",
       "      <th>Loan Size</th>\n",
       "    </tr>\n",
       "  </thead>\n",
       "  <tbody>\n",
       "    <tr>\n",
       "      <th>0</th>\n",
       "      <td>Black</td>\n",
       "      <td>Male</td>\n",
       "      <td>Low</td>\n",
       "      <td>Large</td>\n",
       "    </tr>\n",
       "    <tr>\n",
       "      <th>1</th>\n",
       "      <td>White</td>\n",
       "      <td>Male</td>\n",
       "      <td>Medium</td>\n",
       "      <td>Small</td>\n",
       "    </tr>\n",
       "    <tr>\n",
       "      <th>2</th>\n",
       "      <td>White</td>\n",
       "      <td>Male</td>\n",
       "      <td>Medium</td>\n",
       "      <td>Small</td>\n",
       "    </tr>\n",
       "    <tr>\n",
       "      <th>3</th>\n",
       "      <td>Black</td>\n",
       "      <td>Male</td>\n",
       "      <td>Medium</td>\n",
       "      <td>Large</td>\n",
       "    </tr>\n",
       "    <tr>\n",
       "      <th>4</th>\n",
       "      <td>White</td>\n",
       "      <td>Female</td>\n",
       "      <td>Low</td>\n",
       "      <td>Small</td>\n",
       "    </tr>\n",
       "    <tr>\n",
       "      <th>...</th>\n",
       "      <td>...</td>\n",
       "      <td>...</td>\n",
       "      <td>...</td>\n",
       "      <td>...</td>\n",
       "    </tr>\n",
       "    <tr>\n",
       "      <th>48837</th>\n",
       "      <td>White</td>\n",
       "      <td>Female</td>\n",
       "      <td>Medium</td>\n",
       "      <td>Small</td>\n",
       "    </tr>\n",
       "    <tr>\n",
       "      <th>48838</th>\n",
       "      <td>White</td>\n",
       "      <td>Male</td>\n",
       "      <td>Medium</td>\n",
       "      <td>Large</td>\n",
       "    </tr>\n",
       "    <tr>\n",
       "      <th>48839</th>\n",
       "      <td>White</td>\n",
       "      <td>Female</td>\n",
       "      <td>High</td>\n",
       "      <td>Small</td>\n",
       "    </tr>\n",
       "    <tr>\n",
       "      <th>48840</th>\n",
       "      <td>White</td>\n",
       "      <td>Male</td>\n",
       "      <td>Low</td>\n",
       "      <td>Small</td>\n",
       "    </tr>\n",
       "    <tr>\n",
       "      <th>48841</th>\n",
       "      <td>White</td>\n",
       "      <td>Female</td>\n",
       "      <td>Medium</td>\n",
       "      <td>Small</td>\n",
       "    </tr>\n",
       "  </tbody>\n",
       "</table>\n",
       "<p>48842 rows × 4 columns</p>\n",
       "</div>"
      ],
      "text/plain": [
       "        race     sex Credit Score Loan Size\n",
       "0      Black    Male          Low     Large\n",
       "1      White    Male       Medium     Small\n",
       "2      White    Male       Medium     Small\n",
       "3      Black    Male       Medium     Large\n",
       "4      White  Female          Low     Small\n",
       "...      ...     ...          ...       ...\n",
       "48837  White  Female       Medium     Small\n",
       "48838  White    Male       Medium     Large\n",
       "48839  White  Female         High     Small\n",
       "48840  White    Male          Low     Small\n",
       "48841  White  Female       Medium     Small\n",
       "\n",
       "[48842 rows x 4 columns]"
      ]
     },
     "execution_count": 5,
     "metadata": {},
     "output_type": "execute_result"
    }
   ],
   "source": [
    "def marriage_transform(m_s_string):\n",
    "    \"\"\"Perform some simple manipulations.\"\"\"\n",
    "    result = 'Low'\n",
    "    if m_s_string.startswith(\"Married\"):\n",
    "        result = 'Medium'\n",
    "    elif m_s_string.startswith(\"Widowed\"):\n",
    "        result = 'High'\n",
    "    return result\n",
    "\n",
    "\n",
    "def occupation_transform(occ_string):\n",
    "    \"\"\"Perform some simple manipulations.\"\"\"\n",
    "    result = 'Small'\n",
    "    if occ_string.startswith(\"Machine\"):\n",
    "        result = 'Large'\n",
    "    return result\n",
    "\n",
    "\n",
    "col_credit = X_raw['marital-status'].map(marriage_transform).fillna('Low')\n",
    "col_credit.name = \"Credit Score\"\n",
    "col_loan_size = X_raw['occupation'].map(occupation_transform).fillna('Small')\n",
    "col_loan_size.name = \"Loan Size\"\n",
    "\n",
    "A = X_raw[['race', 'sex']]\n",
    "A['Credit Score'] = col_credit\n",
    "A['Loan Size'] = col_loan_size\n",
    "A"
   ]
  },
  {
   "cell_type": "markdown",
   "metadata": {},
   "source": [
    "Now that we have imported our dataset and manufactured a few features,\n",
    "we can perform some more conventional processing. To avoid the problem\n",
    "of [data\n",
    "leakage](https://en.wikipedia.org/wiki/Leakage_(machine_learning)), we\n",
    "need to split the data into training and test sets before applying any\n",
    "transforms or scaling:\n"
   ]
  },
  {
   "cell_type": "code",
   "execution_count": 6,
   "metadata": {
    "collapsed": false,
    "jupyter": {
     "outputs_hidden": false
    }
   },
   "outputs": [],
   "source": [
    "(X_train, X_test, y_train, y_test, A_train, A_test) = train_test_split(\n",
    "    X_raw, y, A, test_size=0.3, random_state=54321, stratify=y\n",
    ")\n",
    "\n",
    "# Ensure indices are aligned between X, y and A,\n",
    "# after all the slicing and splitting of DataFrames\n",
    "# and Series\n",
    "\n",
    "X_train = X_train.reset_index(drop=True)\n",
    "X_test = X_test.reset_index(drop=True)\n",
    "y_train = y_train.reset_index(drop=True)\n",
    "y_test = y_test.reset_index(drop=True)\n",
    "A_train = A_train.reset_index(drop=True)\n",
    "A_test = A_test.reset_index(drop=True)"
   ]
  },
  {
   "cell_type": "markdown",
   "metadata": {},
   "source": [
    "Next, we build two \\~sklearn.pipeline.Pipeline objects to process the\n",
    "columns, one for numeric data, and the other for categorical data. Both\n",
    "impute missing values; the difference is whether the data are scaled\n",
    "(numeric columns) or one-hot encoded (categorical columns). Imputation\n",
    "of missing values should generally be done with care, since it could\n",
    "potentially introduce biases. Of course, removing rows with missing data\n",
    "could also cause trouble, if particular subgroups have poorer data\n",
    "quality.\n"
   ]
  },
  {
   "cell_type": "code",
   "execution_count": 7,
   "metadata": {
    "collapsed": false,
    "jupyter": {
     "outputs_hidden": false
    }
   },
   "outputs": [],
   "source": [
    "numeric_transformer = Pipeline(\n",
    "    steps=[\n",
    "        (\"impute\", SimpleImputer()),\n",
    "        (\"scaler\", StandardScaler()),\n",
    "    ]\n",
    ")\n",
    "categorical_transformer = Pipeline(\n",
    "    [\n",
    "        (\"impute\", SimpleImputer(strategy=\"most_frequent\")),\n",
    "        (\"ohe\", OneHotEncoder(handle_unknown=\"ignore\")),\n",
    "    ]\n",
    ")\n",
    "preprocessor = ColumnTransformer(\n",
    "    transformers=[\n",
    "        (\"num\", numeric_transformer, selector(dtype_exclude=\"category\")),\n",
    "        (\"cat\", categorical_transformer, selector(dtype_include=\"category\")),\n",
    "    ]\n",
    ")"
   ]
  },
  {
   "cell_type": "markdown",
   "metadata": {},
   "source": [
    "With our preprocessor defined, we can now build a new pipeline which\n",
    "includes an Estimator:\n"
   ]
  },
  {
   "cell_type": "code",
   "execution_count": 8,
   "metadata": {
    "collapsed": false,
    "jupyter": {
     "outputs_hidden": false
    }
   },
   "outputs": [],
   "source": [
    "unmitigated_predictor = Pipeline(\n",
    "    steps=[\n",
    "        (\"preprocessor\", preprocessor),\n",
    "        (\n",
    "            \"classifier\",\n",
    "            LogisticRegression(solver=\"liblinear\", fit_intercept=True),\n",
    "        ),\n",
    "    ]\n",
    ")"
   ]
  },
  {
   "cell_type": "markdown",
   "metadata": {},
   "source": [
    "With the pipeline fully defined, we can first train it with the training\n",
    "data, and then generate predictions from the test data.\n"
   ]
  },
  {
   "cell_type": "code",
   "execution_count": 9,
   "metadata": {
    "collapsed": false,
    "jupyter": {
     "outputs_hidden": false
    }
   },
   "outputs": [],
   "source": [
    "unmitigated_predictor.fit(X_train, y_train)\n",
    "y_pred = unmitigated_predictor.predict(X_test)"
   ]
  },
  {
   "cell_type": "markdown",
   "metadata": {},
   "source": [
    "Analysing the Model with Metrics\n",
    "================================\n",
    "\n",
    "After our data manipulations and model training, we have the following\n",
    "from our test set:\n",
    "\n",
    "-   A vector of true values called `y_test`\n",
    "-   A vector of model predictions called `y_pred`\n",
    "-   A DataFrame of categorical features relevant to fairness called\n",
    "    `A_test`\n",
    "\n",
    "In a traditional model analysis, we would now look at some metrics\n",
    "evaluated on the entire dataset. Suppose in this case, the relevant\n",
    "metrics are fairlearn.metrics.selection\\_rate and\n",
    "sklearn.metrics.fbeta\\_score (with `beta=0.6`). We can evaluate these\n",
    "metrics directly:\n"
   ]
  },
  {
   "cell_type": "code",
   "execution_count": 10,
   "metadata": {
    "collapsed": false,
    "jupyter": {
     "outputs_hidden": false
    }
   },
   "outputs": [
    {
     "name": "stdout",
     "output_type": "stream",
     "text": [
      "Selection Rate: 0.1947041561454992\n",
      "fbeta: 0.6827826864569057\n"
     ]
    }
   ],
   "source": [
    "print(\"Selection Rate:\", selection_rate(y_test, y_pred))\n",
    "print(\"fbeta:\", skm.fbeta_score(y_test, y_pred, beta=0.6))"
   ]
  },
  {
   "cell_type": "markdown",
   "metadata": {},
   "source": [
    "We know that there are sensitive features in our data, and we want to\n",
    "ensure that we're not harming individuals due to membership in any of\n",
    "these groups. For this purpose, Fairlearn provides the\n",
    "fairlearn.metrics.MetricFrame class. Let us construct an instance of\n",
    "this class, and then look at its capabilities:\n"
   ]
  },
  {
   "cell_type": "code",
   "execution_count": 11,
   "metadata": {
    "collapsed": false,
    "jupyter": {
     "outputs_hidden": false
    }
   },
   "outputs": [],
   "source": [
    "fbeta_06 = functools.partial(skm.fbeta_score, beta=0.6)\n",
    "\n",
    "metric_fns = {'selection_rate': selection_rate, 'fbeta_06': fbeta_06, 'count': count}\n",
    "\n",
    "grouped_on_sex = MetricFrame(metrics=metric_fns,\n",
    "                             y_true=y_test,\n",
    "                             y_pred=y_pred,\n",
    "                             sensitive_features=A_test['sex'])"
   ]
  },
  {
   "cell_type": "markdown",
   "metadata": {},
   "source": [
    "The fairlearn.metrics.MetricFrame object requires a minimum of four\n",
    "arguments:\n",
    "\n",
    "1.  The underlying metric function(s) to be evaluated\n",
    "2.  The true values\n",
    "3.  The predicted values\n",
    "4.  The sensitive feature values\n",
    "\n",
    "These are all passed as arguments to the constructor. If more than one\n",
    "underlying metric is required (as in this case), then we must provide\n",
    "them in a dictionary.\n",
    "\n",
    "The underlying metrics must have a signature `fn(y_true, y_pred)`, so we\n",
    "have to use functools.partial on `fbeta_score()` to furnish `beta=0.6`\n",
    "(we will show how to pass in extra array arguments such as sample\n",
    "weights shortly).\n",
    "\n",
    "We will now take a closer look at the fairlearn.metrics.MetricFrame\n",
    "object. First, there is the `overall` property, which contains the\n",
    "metrics evaluated on the entire dataset. We see that this contains the\n",
    "same values calculated above:\n"
   ]
  },
  {
   "cell_type": "code",
   "execution_count": 12,
   "metadata": {
    "collapsed": false,
    "jupyter": {
     "outputs_hidden": false
    }
   },
   "outputs": [
    {
     "name": "stdout",
     "output_type": "stream",
     "text": [
      "selection_rate    0.194704\n",
      "fbeta_06          0.682783\n",
      "count                14653\n",
      "dtype: object\n"
     ]
    }
   ],
   "source": [
    "assert grouped_on_sex.overall['selection_rate'] == selection_rate(y_test, y_pred)\n",
    "assert grouped_on_sex.overall['fbeta_06'] == skm.fbeta_score(y_test, y_pred, beta=0.6)\n",
    "print(grouped_on_sex.overall)"
   ]
  },
  {
   "cell_type": "markdown",
   "metadata": {},
   "source": [
    "The other property in the fairlearn.metrics.MetricFrame object is\n",
    "`by_group`. This contains the metrics evaluated on each subgroup defined\n",
    "by the categories in the `sensitive_features=` argument. Note that\n",
    "fairlearn.metrics.count can be used to display the number of data points\n",
    "in each subgroup. In this case, we have results for males and females:\n"
   ]
  },
  {
   "cell_type": "code",
   "execution_count": 13,
   "metadata": {
    "collapsed": false,
    "jupyter": {
     "outputs_hidden": false
    }
   },
   "outputs": [
    {
     "data": {
      "text/html": [
       "<div>\n",
       "<style scoped>\n",
       "    .dataframe tbody tr th:only-of-type {\n",
       "        vertical-align: middle;\n",
       "    }\n",
       "\n",
       "    .dataframe tbody tr th {\n",
       "        vertical-align: top;\n",
       "    }\n",
       "\n",
       "    .dataframe thead th {\n",
       "        text-align: right;\n",
       "    }\n",
       "</style>\n",
       "<table border=\"1\" class=\"dataframe\">\n",
       "  <thead>\n",
       "    <tr style=\"text-align: right;\">\n",
       "      <th></th>\n",
       "      <th>selection_rate</th>\n",
       "      <th>fbeta_06</th>\n",
       "      <th>count</th>\n",
       "    </tr>\n",
       "    <tr>\n",
       "      <th>sex</th>\n",
       "      <th></th>\n",
       "      <th></th>\n",
       "      <th></th>\n",
       "    </tr>\n",
       "  </thead>\n",
       "  <tbody>\n",
       "    <tr>\n",
       "      <th>Female</th>\n",
       "      <td>0.0688301</td>\n",
       "      <td>0.634014</td>\n",
       "      <td>4838</td>\n",
       "    </tr>\n",
       "    <tr>\n",
       "      <th>Male</th>\n",
       "      <td>0.25675</td>\n",
       "      <td>0.689789</td>\n",
       "      <td>9815</td>\n",
       "    </tr>\n",
       "  </tbody>\n",
       "</table>\n",
       "</div>"
      ],
      "text/plain": [
       "       selection_rate  fbeta_06 count\n",
       "sex                                  \n",
       "Female      0.0688301  0.634014  4838\n",
       "Male          0.25675  0.689789  9815"
      ]
     },
     "execution_count": 13,
     "metadata": {},
     "output_type": "execute_result"
    }
   ],
   "source": [
    "grouped_on_sex.by_group"
   ]
  },
  {
   "cell_type": "markdown",
   "metadata": {},
   "source": [
    "We can immediately see a substantial disparity in the selection rate\n",
    "between males and females.\n",
    "\n",
    "We can also create another fairlearn.metrics.MetricFrame object using\n",
    "race as the sensitive feature:\n"
   ]
  },
  {
   "cell_type": "code",
   "execution_count": 14,
   "metadata": {
    "collapsed": false,
    "jupyter": {
     "outputs_hidden": false
    }
   },
   "outputs": [],
   "source": [
    "grouped_on_race = MetricFrame(metrics=metric_fns,\n",
    "                              y_true=y_test,\n",
    "                              y_pred=y_pred,\n",
    "                              sensitive_features=A_test['race'])"
   ]
  },
  {
   "cell_type": "markdown",
   "metadata": {},
   "source": [
    "The `overall` property is unchanged:\n"
   ]
  },
  {
   "cell_type": "code",
   "execution_count": 15,
   "metadata": {
    "collapsed": false,
    "jupyter": {
     "outputs_hidden": false
    }
   },
   "outputs": [],
   "source": [
    "assert (grouped_on_sex.overall == grouped_on_race.overall).all()"
   ]
  },
  {
   "cell_type": "markdown",
   "metadata": {},
   "source": [
    "The `by_group` property now contains the metrics evaluated based on the\n",
    "'race' column:\n"
   ]
  },
  {
   "cell_type": "code",
   "execution_count": 16,
   "metadata": {
    "collapsed": false,
    "jupyter": {
     "outputs_hidden": false
    }
   },
   "outputs": [
    {
     "data": {
      "text/html": [
       "<div>\n",
       "<style scoped>\n",
       "    .dataframe tbody tr th:only-of-type {\n",
       "        vertical-align: middle;\n",
       "    }\n",
       "\n",
       "    .dataframe tbody tr th {\n",
       "        vertical-align: top;\n",
       "    }\n",
       "\n",
       "    .dataframe thead th {\n",
       "        text-align: right;\n",
       "    }\n",
       "</style>\n",
       "<table border=\"1\" class=\"dataframe\">\n",
       "  <thead>\n",
       "    <tr style=\"text-align: right;\">\n",
       "      <th></th>\n",
       "      <th>selection_rate</th>\n",
       "      <th>fbeta_06</th>\n",
       "      <th>count</th>\n",
       "    </tr>\n",
       "    <tr>\n",
       "      <th>race</th>\n",
       "      <th></th>\n",
       "      <th></th>\n",
       "      <th></th>\n",
       "    </tr>\n",
       "  </thead>\n",
       "  <tbody>\n",
       "    <tr>\n",
       "      <th>Black</th>\n",
       "      <td>0.0681976</td>\n",
       "      <td>0.592125</td>\n",
       "      <td>1437</td>\n",
       "    </tr>\n",
       "    <tr>\n",
       "      <th>Other</th>\n",
       "      <td>0.16763</td>\n",
       "      <td>0.693717</td>\n",
       "      <td>692</td>\n",
       "    </tr>\n",
       "    <tr>\n",
       "      <th>White</th>\n",
       "      <td>0.210715</td>\n",
       "      <td>0.686081</td>\n",
       "      <td>12524</td>\n",
       "    </tr>\n",
       "  </tbody>\n",
       "</table>\n",
       "</div>"
      ],
      "text/plain": [
       "      selection_rate  fbeta_06  count\n",
       "race                                 \n",
       "Black      0.0681976  0.592125   1437\n",
       "Other        0.16763  0.693717    692\n",
       "White       0.210715  0.686081  12524"
      ]
     },
     "execution_count": 16,
     "metadata": {},
     "output_type": "execute_result"
    }
   ],
   "source": [
    "grouped_on_race.by_group"
   ]
  },
  {
   "cell_type": "markdown",
   "metadata": {},
   "source": [
    "We see that there is also a significant disparity in selection rates\n",
    "when grouping by race.\n"
   ]
  },
  {
   "cell_type": "markdown",
   "metadata": {},
   "source": [
    "Sample weights and other arrays\n",
    "===============================\n",
    "\n",
    "We noted above that the underlying metric functions passed to the\n",
    "fairlearn.metrics.MetricFrame constructor need to be of the form\n",
    "`fn(y_true, y_pred)` - we do not support scalar arguments such as\n",
    "`pos_label=` or `beta=` in the constructor. Such arguments should be\n",
    "bound into a new function using functools.partial, and the result passed\n",
    "in. However, we do support arguments which have one entry for each\n",
    "sample, with an array of sample weights being the most common example.\n",
    "These are divided into subgroups along with `y_true` and `y_pred`, and\n",
    "passed along to the underlying metric.\n",
    "\n",
    "To use these arguments, we pass in a dictionary as the `sample_params=`\n",
    "argument of the constructor. Let us generate some random weights, and\n",
    "pass these along:\n"
   ]
  },
  {
   "cell_type": "code",
   "execution_count": 17,
   "metadata": {
    "collapsed": false,
    "jupyter": {
     "outputs_hidden": false
    }
   },
   "outputs": [],
   "source": [
    "random_weights = np.random.rand(len(y_test))\n",
    "\n",
    "example_sample_params = {\n",
    "    'selection_rate': {'sample_weight': random_weights},\n",
    "    'fbeta_06': {'sample_weight': random_weights},\n",
    "}\n",
    "\n",
    "\n",
    "grouped_with_weights = MetricFrame(metrics=metric_fns,\n",
    "                                   y_true=y_test,\n",
    "                                   y_pred=y_pred,\n",
    "                                   sensitive_features=A_test['sex'],\n",
    "                                   sample_params=example_sample_params)"
   ]
  },
  {
   "cell_type": "markdown",
   "metadata": {},
   "source": [
    "We can inspect the overall values, and check they are as expected:\n"
   ]
  },
  {
   "cell_type": "code",
   "execution_count": 18,
   "metadata": {
    "collapsed": false,
    "jupyter": {
     "outputs_hidden": false
    }
   },
   "outputs": [
    {
     "name": "stdout",
     "output_type": "stream",
     "text": [
      "selection_rate    0.194141\n",
      "fbeta_06          0.677618\n",
      "count                14653\n",
      "dtype: object\n"
     ]
    }
   ],
   "source": [
    "assert grouped_with_weights.overall['selection_rate'] == \\\n",
    "    selection_rate(y_test, y_pred, sample_weight=random_weights)\n",
    "assert grouped_with_weights.overall['fbeta_06'] == \\\n",
    "    skm.fbeta_score(y_test, y_pred, beta=0.6, sample_weight=random_weights)\n",
    "print(grouped_with_weights.overall)"
   ]
  },
  {
   "cell_type": "markdown",
   "metadata": {},
   "source": [
    "We can also see the effect on the metric being evaluated on the\n",
    "subgroups:\n"
   ]
  },
  {
   "cell_type": "code",
   "execution_count": 19,
   "metadata": {
    "collapsed": false,
    "jupyter": {
     "outputs_hidden": false
    }
   },
   "outputs": [
    {
     "data": {
      "text/html": [
       "<div>\n",
       "<style scoped>\n",
       "    .dataframe tbody tr th:only-of-type {\n",
       "        vertical-align: middle;\n",
       "    }\n",
       "\n",
       "    .dataframe tbody tr th {\n",
       "        vertical-align: top;\n",
       "    }\n",
       "\n",
       "    .dataframe thead th {\n",
       "        text-align: right;\n",
       "    }\n",
       "</style>\n",
       "<table border=\"1\" class=\"dataframe\">\n",
       "  <thead>\n",
       "    <tr style=\"text-align: right;\">\n",
       "      <th></th>\n",
       "      <th>selection_rate</th>\n",
       "      <th>fbeta_06</th>\n",
       "      <th>count</th>\n",
       "    </tr>\n",
       "    <tr>\n",
       "      <th>sex</th>\n",
       "      <th></th>\n",
       "      <th></th>\n",
       "      <th></th>\n",
       "    </tr>\n",
       "  </thead>\n",
       "  <tbody>\n",
       "    <tr>\n",
       "      <th>Female</th>\n",
       "      <td>0.0690983</td>\n",
       "      <td>0.628719</td>\n",
       "      <td>4838</td>\n",
       "    </tr>\n",
       "    <tr>\n",
       "      <th>Male</th>\n",
       "      <td>0.256447</td>\n",
       "      <td>0.684684</td>\n",
       "      <td>9815</td>\n",
       "    </tr>\n",
       "  </tbody>\n",
       "</table>\n",
       "</div>"
      ],
      "text/plain": [
       "       selection_rate  fbeta_06 count\n",
       "sex                                  \n",
       "Female      0.0690983  0.628719  4838\n",
       "Male         0.256447  0.684684  9815"
      ]
     },
     "execution_count": 19,
     "metadata": {},
     "output_type": "execute_result"
    }
   ],
   "source": [
    "grouped_with_weights.by_group"
   ]
  },
  {
   "cell_type": "markdown",
   "metadata": {},
   "source": [
    "Quantifying Disparities\n",
    "=======================\n",
    "\n",
    "We now know that our model is selecting individuals who are female far\n",
    "less often than individuals who are male. There is a similar effect when\n",
    "examining the results by race, with blacks being selected far less often\n",
    "than whites (and those classified as 'other'). However, there are many\n",
    "cases where presenting all these numbers at once will not be useful (for\n",
    "example, a high level dashboard which is monitoring model performance).\n",
    "Fairlearn provides several means of aggregating metrics across the\n",
    "subgroups, so that disparities can be readily quantified.\n",
    "\n",
    "The simplest of these aggregations is `group_min()`, which reports the\n",
    "minimum value seen for a subgroup for each underlying metric (we also\n",
    "provide `group_max()`). This is useful if there is a mandate that \"no\n",
    "subgroup should have an `fbeta_score()` of less than 0.6.\" We can\n",
    "evaluate the minimum values easily:\n"
   ]
  },
  {
   "cell_type": "code",
   "execution_count": 20,
   "metadata": {
    "collapsed": false,
    "jupyter": {
     "outputs_hidden": false
    }
   },
   "outputs": [
    {
     "data": {
      "text/plain": [
       "selection_rate    0.0681976\n",
       "fbeta_06           0.592125\n",
       "count                   692\n",
       "dtype: object"
      ]
     },
     "execution_count": 20,
     "metadata": {},
     "output_type": "execute_result"
    }
   ],
   "source": [
    "grouped_on_race.group_min()"
   ]
  },
  {
   "cell_type": "markdown",
   "metadata": {},
   "source": [
    "As noted above, the selection rates varies greatly by race and by sex.\n",
    "This can be quantified in terms of a difference between the subgroup\n",
    "with the highest value of the metric, and the subgroup with the lowest\n",
    "value. For this, we provide the method\n",
    "`difference(method='between_groups)`:\n"
   ]
  },
  {
   "cell_type": "code",
   "execution_count": 21,
   "metadata": {
    "collapsed": false,
    "jupyter": {
     "outputs_hidden": false
    }
   },
   "outputs": [
    {
     "data": {
      "text/plain": [
       "selection_rate        0.142518\n",
       "fbeta_06              0.101591\n",
       "count             11832.000000\n",
       "dtype: float64"
      ]
     },
     "execution_count": 21,
     "metadata": {},
     "output_type": "execute_result"
    }
   ],
   "source": [
    "grouped_on_race.difference(method='between_groups')"
   ]
  },
  {
   "cell_type": "markdown",
   "metadata": {},
   "source": [
    "We can also evaluate the difference relative to the corresponding\n",
    "overall value of the metric. In this case we take the absolute value, so\n",
    "that the result is always positive:\n"
   ]
  },
  {
   "cell_type": "code",
   "execution_count": 22,
   "metadata": {
    "collapsed": false,
    "jupyter": {
     "outputs_hidden": false
    }
   },
   "outputs": [
    {
     "data": {
      "text/plain": [
       "selection_rate        0.126507\n",
       "fbeta_06              0.090657\n",
       "count             13961.000000\n",
       "dtype: float64"
      ]
     },
     "execution_count": 22,
     "metadata": {},
     "output_type": "execute_result"
    }
   ],
   "source": [
    "grouped_on_race.difference(method='to_overall')"
   ]
  },
  {
   "cell_type": "markdown",
   "metadata": {},
   "source": [
    "There are situations where knowing the ratios of the metrics evaluated\n",
    "on the subgroups is more useful. For this we have the `ratio()` method.\n",
    "We can take the ratios between the minimum and maximum values of each\n",
    "metric:\n"
   ]
  },
  {
   "cell_type": "code",
   "execution_count": 23,
   "metadata": {
    "collapsed": false,
    "jupyter": {
     "outputs_hidden": false
    }
   },
   "outputs": [
    {
     "data": {
      "text/plain": [
       "selection_rate     0.323648\n",
       "fbeta_06           0.853555\n",
       "count             0.0552539\n",
       "dtype: object"
      ]
     },
     "execution_count": 23,
     "metadata": {},
     "output_type": "execute_result"
    }
   ],
   "source": [
    "grouped_on_race.ratio(method='between_groups')"
   ]
  },
  {
   "cell_type": "markdown",
   "metadata": {},
   "source": [
    "We can also compute the ratios relative to the overall value for each\n",
    "metric. Analogous to the differences, the ratios are always in the range\n",
    "$[0,1]$:\n"
   ]
  },
  {
   "cell_type": "code",
   "execution_count": 24,
   "metadata": {
    "collapsed": false,
    "jupyter": {
     "outputs_hidden": false
    }
   },
   "outputs": [
    {
     "data": {
      "text/plain": [
       "selection_rate    0.350263\n",
       "fbeta_06          0.867223\n",
       "count             0.047226\n",
       "dtype: float64"
      ]
     },
     "execution_count": 24,
     "metadata": {},
     "output_type": "execute_result"
    }
   ],
   "source": [
    "grouped_on_race.ratio(method='to_overall')"
   ]
  },
  {
   "cell_type": "markdown",
   "metadata": {},
   "source": [
    "Intersections of Features\n",
    "=========================\n",
    "\n",
    "So far we have only considered a single sensitive feature at a time, and\n",
    "we have already found some serious issues in our example data. However,\n",
    "sometimes serious issues can be hiding in intersections of features. For\n",
    "example, the [Gender Shades\n",
    "project](https://www.media.mit.edu/projects/gender-shades/overview/)\n",
    "found that facial recognition algorithms performed worse for blacks than\n",
    "whites, and also worse for women than men (despite overall high accuracy\n",
    "score). Moreover, performance on black females was *terrible*. We can\n",
    "examine the intersections of sensitive features by passing multiple\n",
    "columns to the fairlearn.metrics.MetricFrame constructor:\n"
   ]
  },
  {
   "cell_type": "code",
   "execution_count": 25,
   "metadata": {
    "collapsed": false,
    "jupyter": {
     "outputs_hidden": false
    }
   },
   "outputs": [],
   "source": [
    "grouped_on_race_and_sex = MetricFrame(metrics=metric_fns,\n",
    "                                      y_true=y_test,\n",
    "                                      y_pred=y_pred,\n",
    "                                      sensitive_features=A_test[['race', 'sex']])"
   ]
  },
  {
   "cell_type": "markdown",
   "metadata": {},
   "source": [
    "The overall values are unchanged, but the `by_group` table now shows the\n",
    "intersections between subgroups:\n"
   ]
  },
  {
   "cell_type": "code",
   "execution_count": 26,
   "metadata": {
    "collapsed": false,
    "jupyter": {
     "outputs_hidden": false
    }
   },
   "outputs": [
    {
     "data": {
      "text/html": [
       "<div>\n",
       "<style scoped>\n",
       "    .dataframe tbody tr th:only-of-type {\n",
       "        vertical-align: middle;\n",
       "    }\n",
       "\n",
       "    .dataframe tbody tr th {\n",
       "        vertical-align: top;\n",
       "    }\n",
       "\n",
       "    .dataframe thead th {\n",
       "        text-align: right;\n",
       "    }\n",
       "</style>\n",
       "<table border=\"1\" class=\"dataframe\">\n",
       "  <thead>\n",
       "    <tr style=\"text-align: right;\">\n",
       "      <th></th>\n",
       "      <th></th>\n",
       "      <th>selection_rate</th>\n",
       "      <th>fbeta_06</th>\n",
       "      <th>count</th>\n",
       "    </tr>\n",
       "    <tr>\n",
       "      <th>race</th>\n",
       "      <th>sex</th>\n",
       "      <th></th>\n",
       "      <th></th>\n",
       "      <th></th>\n",
       "    </tr>\n",
       "  </thead>\n",
       "  <tbody>\n",
       "    <tr>\n",
       "      <th rowspan=\"2\" valign=\"top\">Black</th>\n",
       "      <th>Female</th>\n",
       "      <td>0.0322581</td>\n",
       "      <td>0.630316</td>\n",
       "      <td>713</td>\n",
       "    </tr>\n",
       "    <tr>\n",
       "      <th>Male</th>\n",
       "      <td>0.103591</td>\n",
       "      <td>0.580624</td>\n",
       "      <td>724</td>\n",
       "    </tr>\n",
       "    <tr>\n",
       "      <th rowspan=\"2\" valign=\"top\">Other</th>\n",
       "      <th>Female</th>\n",
       "      <td>0.0708661</td>\n",
       "      <td>0.503704</td>\n",
       "      <td>254</td>\n",
       "    </tr>\n",
       "    <tr>\n",
       "      <th>Male</th>\n",
       "      <td>0.223744</td>\n",
       "      <td>0.728972</td>\n",
       "      <td>438</td>\n",
       "    </tr>\n",
       "    <tr>\n",
       "      <th rowspan=\"2\" valign=\"top\">White</th>\n",
       "      <th>Female</th>\n",
       "      <td>0.0754327</td>\n",
       "      <td>0.642076</td>\n",
       "      <td>3871</td>\n",
       "    </tr>\n",
       "    <tr>\n",
       "      <th>Male</th>\n",
       "      <td>0.271235</td>\n",
       "      <td>0.692069</td>\n",
       "      <td>8653</td>\n",
       "    </tr>\n",
       "  </tbody>\n",
       "</table>\n",
       "</div>"
      ],
      "text/plain": [
       "             selection_rate  fbeta_06 count\n",
       "race  sex                                  \n",
       "Black Female      0.0322581  0.630316   713\n",
       "      Male         0.103591  0.580624   724\n",
       "Other Female      0.0708661  0.503704   254\n",
       "      Male         0.223744  0.728972   438\n",
       "White Female      0.0754327  0.642076  3871\n",
       "      Male         0.271235  0.692069  8653"
      ]
     },
     "execution_count": 26,
     "metadata": {},
     "output_type": "execute_result"
    }
   ],
   "source": [
    "assert (grouped_on_race_and_sex.overall == grouped_on_race.overall).all()\n",
    "grouped_on_race_and_sex.by_group"
   ]
  },
  {
   "cell_type": "markdown",
   "metadata": {},
   "source": [
    "The aggregations are still performed across all subgroups for each\n",
    "metric, so each continues to reduce to a single value. If we look at the\n",
    "`group_min()`, we see that we violate the mandate we specified for the\n",
    "`fbeta_score()` suggested above (for females with a race of 'Other' in\n",
    "fact):\n"
   ]
  },
  {
   "cell_type": "code",
   "execution_count": 27,
   "metadata": {
    "collapsed": false,
    "jupyter": {
     "outputs_hidden": false
    }
   },
   "outputs": [
    {
     "data": {
      "text/plain": [
       "selection_rate    0.0322581\n",
       "fbeta_06           0.503704\n",
       "count                   254\n",
       "dtype: object"
      ]
     },
     "execution_count": 27,
     "metadata": {},
     "output_type": "execute_result"
    }
   ],
   "source": [
    "grouped_on_race_and_sex.group_min()"
   ]
  },
  {
   "cell_type": "markdown",
   "metadata": {},
   "source": [
    "Looking at the `ratio()` method, we see that the disparity is worse\n",
    "(specifically between white males and black females, if we check in the\n",
    "`by_group` table):\n"
   ]
  },
  {
   "cell_type": "code",
   "execution_count": 28,
   "metadata": {
    "collapsed": false,
    "jupyter": {
     "outputs_hidden": false
    }
   },
   "outputs": [
    {
     "data": {
      "text/plain": [
       "selection_rate     0.11893\n",
       "fbeta_06          0.690978\n",
       "count             0.029354\n",
       "dtype: object"
      ]
     },
     "execution_count": 28,
     "metadata": {},
     "output_type": "execute_result"
    }
   ],
   "source": [
    "grouped_on_race_and_sex.ratio(method='between_groups')"
   ]
  },
  {
   "cell_type": "markdown",
   "metadata": {},
   "source": [
    "Control Features\n",
    "================\n",
    "\n",
    "There is a further way we can slice up our data. We have (*completely\n",
    "made up*) features for the individuals' credit scores (in three bands)\n",
    "and also the size of the loan requested (large or small). In our loan\n",
    "scenario, it is acceptable that individuals with high credit scores are\n",
    "selected more often than individuals with low credit scores. However,\n",
    "within each credit score band, we do not want a disparity between (say)\n",
    "black females and white males. To example these cases, we have the\n",
    "concept of *control features*.\n",
    "\n",
    "Control features are introduced by the `control_features=` argument to\n",
    "the fairlearn.metrics.MetricFrame object:\n"
   ]
  },
  {
   "cell_type": "code",
   "execution_count": 29,
   "metadata": {
    "collapsed": false,
    "jupyter": {
     "outputs_hidden": false
    }
   },
   "outputs": [
    {
     "name": "stderr",
     "output_type": "stream",
     "text": [
      "/opt/conda/lib/python3.6/site-packages/sklearn/metrics/_classification.py:1515: UndefinedMetricWarning: F-score is ill-defined and being set to 0.0 due to no true nor predicted samples. Use `zero_division` parameter to control this behavior.\n",
      "  average, \"true nor predicted\", 'F-score is', len(true_sum)\n"
     ]
    }
   ],
   "source": [
    "cond_credit_score = MetricFrame(metrics=metric_fns,\n",
    "                                y_true=y_test,\n",
    "                                y_pred=y_pred,\n",
    "                                sensitive_features=A_test[['race', 'sex']],\n",
    "                                control_features=A_test['Credit Score'])"
   ]
  },
  {
   "cell_type": "markdown",
   "metadata": {},
   "source": [
    "This has an immediate effect on the `overall` property. Instead of\n",
    "having one value for each metric, we now have a value for each unique\n",
    "value of the control feature:\n"
   ]
  },
  {
   "cell_type": "code",
   "execution_count": 30,
   "metadata": {
    "collapsed": false,
    "jupyter": {
     "outputs_hidden": false
    }
   },
   "outputs": [
    {
     "data": {
      "text/html": [
       "<div>\n",
       "<style scoped>\n",
       "    .dataframe tbody tr th:only-of-type {\n",
       "        vertical-align: middle;\n",
       "    }\n",
       "\n",
       "    .dataframe tbody tr th {\n",
       "        vertical-align: top;\n",
       "    }\n",
       "\n",
       "    .dataframe thead th {\n",
       "        text-align: right;\n",
       "    }\n",
       "</style>\n",
       "<table border=\"1\" class=\"dataframe\">\n",
       "  <thead>\n",
       "    <tr style=\"text-align: right;\">\n",
       "      <th></th>\n",
       "      <th>selection_rate</th>\n",
       "      <th>fbeta_06</th>\n",
       "      <th>count</th>\n",
       "    </tr>\n",
       "    <tr>\n",
       "      <th>Credit Score</th>\n",
       "      <th></th>\n",
       "      <th></th>\n",
       "      <th></th>\n",
       "    </tr>\n",
       "  </thead>\n",
       "  <tbody>\n",
       "    <tr>\n",
       "      <th>High</th>\n",
       "      <td>0.0361702</td>\n",
       "      <td>0.664928</td>\n",
       "      <td>470</td>\n",
       "    </tr>\n",
       "    <tr>\n",
       "      <th>Low</th>\n",
       "      <td>0.0229238</td>\n",
       "      <td>0.549994</td>\n",
       "      <td>7285</td>\n",
       "    </tr>\n",
       "    <tr>\n",
       "      <th>Medium</th>\n",
       "      <td>0.386924</td>\n",
       "      <td>0.695034</td>\n",
       "      <td>6898</td>\n",
       "    </tr>\n",
       "  </tbody>\n",
       "</table>\n",
       "</div>"
      ],
      "text/plain": [
       "             selection_rate  fbeta_06 count\n",
       "Credit Score                               \n",
       "High              0.0361702  0.664928   470\n",
       "Low               0.0229238  0.549994  7285\n",
       "Medium             0.386924  0.695034  6898"
      ]
     },
     "execution_count": 30,
     "metadata": {},
     "output_type": "execute_result"
    }
   ],
   "source": [
    "cond_credit_score.overall"
   ]
  },
  {
   "cell_type": "markdown",
   "metadata": {},
   "source": [
    "The `by_group` property is similarly expanded:\n"
   ]
  },
  {
   "cell_type": "code",
   "execution_count": 31,
   "metadata": {
    "collapsed": false,
    "jupyter": {
     "outputs_hidden": false
    }
   },
   "outputs": [
    {
     "data": {
      "text/html": [
       "<div>\n",
       "<style scoped>\n",
       "    .dataframe tbody tr th:only-of-type {\n",
       "        vertical-align: middle;\n",
       "    }\n",
       "\n",
       "    .dataframe tbody tr th {\n",
       "        vertical-align: top;\n",
       "    }\n",
       "\n",
       "    .dataframe thead th {\n",
       "        text-align: right;\n",
       "    }\n",
       "</style>\n",
       "<table border=\"1\" class=\"dataframe\">\n",
       "  <thead>\n",
       "    <tr style=\"text-align: right;\">\n",
       "      <th></th>\n",
       "      <th></th>\n",
       "      <th></th>\n",
       "      <th>selection_rate</th>\n",
       "      <th>fbeta_06</th>\n",
       "      <th>count</th>\n",
       "    </tr>\n",
       "    <tr>\n",
       "      <th>Credit Score</th>\n",
       "      <th>race</th>\n",
       "      <th>sex</th>\n",
       "      <th></th>\n",
       "      <th></th>\n",
       "      <th></th>\n",
       "    </tr>\n",
       "  </thead>\n",
       "  <tbody>\n",
       "    <tr>\n",
       "      <th rowspan=\"6\" valign=\"top\">High</th>\n",
       "      <th rowspan=\"2\" valign=\"top\">Black</th>\n",
       "      <th>Female</th>\n",
       "      <td>0</td>\n",
       "      <td>0</td>\n",
       "      <td>54</td>\n",
       "    </tr>\n",
       "    <tr>\n",
       "      <th>Male</th>\n",
       "      <td>0.0666667</td>\n",
       "      <td>1</td>\n",
       "      <td>15</td>\n",
       "    </tr>\n",
       "    <tr>\n",
       "      <th rowspan=\"2\" valign=\"top\">Other</th>\n",
       "      <th>Female</th>\n",
       "      <td>0</td>\n",
       "      <td>0</td>\n",
       "      <td>21</td>\n",
       "    </tr>\n",
       "    <tr>\n",
       "      <th>Male</th>\n",
       "      <td>0</td>\n",
       "      <td>0</td>\n",
       "      <td>4</td>\n",
       "    </tr>\n",
       "    <tr>\n",
       "      <th rowspan=\"2\" valign=\"top\">White</th>\n",
       "      <th>Female</th>\n",
       "      <td>0.0196078</td>\n",
       "      <td>0.529595</td>\n",
       "      <td>306</td>\n",
       "    </tr>\n",
       "    <tr>\n",
       "      <th>Male</th>\n",
       "      <td>0.142857</td>\n",
       "      <td>0.759305</td>\n",
       "      <td>70</td>\n",
       "    </tr>\n",
       "    <tr>\n",
       "      <th rowspan=\"6\" valign=\"top\">Low</th>\n",
       "      <th rowspan=\"2\" valign=\"top\">Black</th>\n",
       "      <th>Female</th>\n",
       "      <td>0.00702988</td>\n",
       "      <td>0.626728</td>\n",
       "      <td>569</td>\n",
       "    </tr>\n",
       "    <tr>\n",
       "      <th>Male</th>\n",
       "      <td>0.0205128</td>\n",
       "      <td>0.563536</td>\n",
       "      <td>390</td>\n",
       "    </tr>\n",
       "    <tr>\n",
       "      <th rowspan=\"2\" valign=\"top\">Other</th>\n",
       "      <th>Female</th>\n",
       "      <td>0.0120482</td>\n",
       "      <td>0.519084</td>\n",
       "      <td>166</td>\n",
       "    </tr>\n",
       "    <tr>\n",
       "      <th>Male</th>\n",
       "      <td>0.0372671</td>\n",
       "      <td>0.693878</td>\n",
       "      <td>161</td>\n",
       "    </tr>\n",
       "    <tr>\n",
       "      <th rowspan=\"2\" valign=\"top\">White</th>\n",
       "      <th>Female</th>\n",
       "      <td>0.015084</td>\n",
       "      <td>0.525773</td>\n",
       "      <td>2917</td>\n",
       "    </tr>\n",
       "    <tr>\n",
       "      <th>Male</th>\n",
       "      <td>0.0334199</td>\n",
       "      <td>0.55025</td>\n",
       "      <td>3082</td>\n",
       "    </tr>\n",
       "    <tr>\n",
       "      <th rowspan=\"6\" valign=\"top\">Medium</th>\n",
       "      <th rowspan=\"2\" valign=\"top\">Black</th>\n",
       "      <th>Female</th>\n",
       "      <td>0.211111</td>\n",
       "      <td>0.639653</td>\n",
       "      <td>90</td>\n",
       "    </tr>\n",
       "    <tr>\n",
       "      <th>Male</th>\n",
       "      <td>0.206897</td>\n",
       "      <td>0.577576</td>\n",
       "      <td>319</td>\n",
       "    </tr>\n",
       "    <tr>\n",
       "      <th rowspan=\"2\" valign=\"top\">Other</th>\n",
       "      <th>Female</th>\n",
       "      <td>0.238806</td>\n",
       "      <td>0.5</td>\n",
       "      <td>67</td>\n",
       "    </tr>\n",
       "    <tr>\n",
       "      <th>Male</th>\n",
       "      <td>0.336996</td>\n",
       "      <td>0.732057</td>\n",
       "      <td>273</td>\n",
       "    </tr>\n",
       "    <tr>\n",
       "      <th rowspan=\"2\" valign=\"top\">White</th>\n",
       "      <th>Female</th>\n",
       "      <td>0.373457</td>\n",
       "      <td>0.680881</td>\n",
       "      <td>648</td>\n",
       "    </tr>\n",
       "    <tr>\n",
       "      <th>Male</th>\n",
       "      <td>0.406108</td>\n",
       "      <td>0.700837</td>\n",
       "      <td>5501</td>\n",
       "    </tr>\n",
       "  </tbody>\n",
       "</table>\n",
       "</div>"
      ],
      "text/plain": [
       "                          selection_rate  fbeta_06 count\n",
       "Credit Score race  sex                                  \n",
       "High         Black Female              0         0    54\n",
       "                   Male        0.0666667         1    15\n",
       "             Other Female              0         0    21\n",
       "                   Male                0         0     4\n",
       "             White Female      0.0196078  0.529595   306\n",
       "                   Male         0.142857  0.759305    70\n",
       "Low          Black Female     0.00702988  0.626728   569\n",
       "                   Male        0.0205128  0.563536   390\n",
       "             Other Female      0.0120482  0.519084   166\n",
       "                   Male        0.0372671  0.693878   161\n",
       "             White Female       0.015084  0.525773  2917\n",
       "                   Male        0.0334199   0.55025  3082\n",
       "Medium       Black Female       0.211111  0.639653    90\n",
       "                   Male         0.206897  0.577576   319\n",
       "             Other Female       0.238806       0.5    67\n",
       "                   Male         0.336996  0.732057   273\n",
       "             White Female       0.373457  0.680881   648\n",
       "                   Male         0.406108  0.700837  5501"
      ]
     },
     "execution_count": 31,
     "metadata": {},
     "output_type": "execute_result"
    }
   ],
   "source": [
    "cond_credit_score.by_group"
   ]
  },
  {
   "cell_type": "markdown",
   "metadata": {},
   "source": [
    "The aggregates are also evaluated once for each group identified by the\n",
    "control feature:\n"
   ]
  },
  {
   "cell_type": "code",
   "execution_count": 32,
   "metadata": {
    "collapsed": false,
    "jupyter": {
     "outputs_hidden": false
    }
   },
   "outputs": [
    {
     "data": {
      "text/html": [
       "<div>\n",
       "<style scoped>\n",
       "    .dataframe tbody tr th:only-of-type {\n",
       "        vertical-align: middle;\n",
       "    }\n",
       "\n",
       "    .dataframe tbody tr th {\n",
       "        vertical-align: top;\n",
       "    }\n",
       "\n",
       "    .dataframe thead th {\n",
       "        text-align: right;\n",
       "    }\n",
       "</style>\n",
       "<table border=\"1\" class=\"dataframe\">\n",
       "  <thead>\n",
       "    <tr style=\"text-align: right;\">\n",
       "      <th></th>\n",
       "      <th>selection_rate</th>\n",
       "      <th>fbeta_06</th>\n",
       "      <th>count</th>\n",
       "    </tr>\n",
       "    <tr>\n",
       "      <th>Credit Score</th>\n",
       "      <th></th>\n",
       "      <th></th>\n",
       "      <th></th>\n",
       "    </tr>\n",
       "  </thead>\n",
       "  <tbody>\n",
       "    <tr>\n",
       "      <th>High</th>\n",
       "      <td>0.000000</td>\n",
       "      <td>0.000000</td>\n",
       "      <td>4</td>\n",
       "    </tr>\n",
       "    <tr>\n",
       "      <th>Low</th>\n",
       "      <td>0.007030</td>\n",
       "      <td>0.519084</td>\n",
       "      <td>161</td>\n",
       "    </tr>\n",
       "    <tr>\n",
       "      <th>Medium</th>\n",
       "      <td>0.206897</td>\n",
       "      <td>0.500000</td>\n",
       "      <td>67</td>\n",
       "    </tr>\n",
       "  </tbody>\n",
       "</table>\n",
       "</div>"
      ],
      "text/plain": [
       "              selection_rate  fbeta_06  count\n",
       "Credit Score                                 \n",
       "High                0.000000  0.000000      4\n",
       "Low                 0.007030  0.519084    161\n",
       "Medium              0.206897  0.500000     67"
      ]
     },
     "execution_count": 32,
     "metadata": {},
     "output_type": "execute_result"
    }
   ],
   "source": [
    "cond_credit_score.group_min()"
   ]
  },
  {
   "cell_type": "markdown",
   "metadata": {},
   "source": [
    "And:\n"
   ]
  },
  {
   "cell_type": "code",
   "execution_count": 33,
   "metadata": {
    "collapsed": false,
    "jupyter": {
     "outputs_hidden": false
    }
   },
   "outputs": [
    {
     "data": {
      "text/html": [
       "<div>\n",
       "<style scoped>\n",
       "    .dataframe tbody tr th:only-of-type {\n",
       "        vertical-align: middle;\n",
       "    }\n",
       "\n",
       "    .dataframe tbody tr th {\n",
       "        vertical-align: top;\n",
       "    }\n",
       "\n",
       "    .dataframe thead th {\n",
       "        text-align: right;\n",
       "    }\n",
       "</style>\n",
       "<table border=\"1\" class=\"dataframe\">\n",
       "  <thead>\n",
       "    <tr style=\"text-align: right;\">\n",
       "      <th></th>\n",
       "      <th>selection_rate</th>\n",
       "      <th>fbeta_06</th>\n",
       "      <th>count</th>\n",
       "    </tr>\n",
       "    <tr>\n",
       "      <th>Credit Score</th>\n",
       "      <th></th>\n",
       "      <th></th>\n",
       "      <th></th>\n",
       "    </tr>\n",
       "  </thead>\n",
       "  <tbody>\n",
       "    <tr>\n",
       "      <th>High</th>\n",
       "      <td>0.000000</td>\n",
       "      <td>0.000000</td>\n",
       "      <td>0.013072</td>\n",
       "    </tr>\n",
       "    <tr>\n",
       "      <th>Low</th>\n",
       "      <td>0.188635</td>\n",
       "      <td>0.748092</td>\n",
       "      <td>0.052239</td>\n",
       "    </tr>\n",
       "    <tr>\n",
       "      <th>Medium</th>\n",
       "      <td>0.509462</td>\n",
       "      <td>0.683007</td>\n",
       "      <td>0.012180</td>\n",
       "    </tr>\n",
       "  </tbody>\n",
       "</table>\n",
       "</div>"
      ],
      "text/plain": [
       "              selection_rate  fbeta_06     count\n",
       "Credit Score                                    \n",
       "High                0.000000  0.000000  0.013072\n",
       "Low                 0.188635  0.748092  0.052239\n",
       "Medium              0.509462  0.683007  0.012180"
      ]
     },
     "execution_count": 33,
     "metadata": {},
     "output_type": "execute_result"
    }
   ],
   "source": [
    "cond_credit_score.ratio(method='between_groups')"
   ]
  },
  {
   "cell_type": "markdown",
   "metadata": {},
   "source": [
    "In our data, we see that we have a dearth of positive results for high\n",
    "income non-whites, which significantly affects the aggregates.\n",
    "\n",
    "We can continue adding more control features:\n"
   ]
  },
  {
   "cell_type": "code",
   "execution_count": 34,
   "metadata": {
    "collapsed": false,
    "jupyter": {
     "outputs_hidden": false
    }
   },
   "outputs": [
    {
     "name": "stderr",
     "output_type": "stream",
     "text": [
      "Found 36 subgroups. Evaluation may be slow\n"
     ]
    }
   ],
   "source": [
    "cond_both = MetricFrame(metrics=metric_fns,\n",
    "                        y_true=y_test,\n",
    "                        y_pred=y_pred,\n",
    "                        sensitive_features=A_test[['race', 'sex']],\n",
    "                        control_features=A_test[['Loan Size', 'Credit Score']])"
   ]
  },
  {
   "cell_type": "markdown",
   "metadata": {},
   "source": [
    "The `overall` property now splits into more values:\n"
   ]
  },
  {
   "cell_type": "code",
   "execution_count": 35,
   "metadata": {
    "collapsed": false,
    "jupyter": {
     "outputs_hidden": false
    }
   },
   "outputs": [
    {
     "data": {
      "text/html": [
       "<div>\n",
       "<style scoped>\n",
       "    .dataframe tbody tr th:only-of-type {\n",
       "        vertical-align: middle;\n",
       "    }\n",
       "\n",
       "    .dataframe tbody tr th {\n",
       "        vertical-align: top;\n",
       "    }\n",
       "\n",
       "    .dataframe thead th {\n",
       "        text-align: right;\n",
       "    }\n",
       "</style>\n",
       "<table border=\"1\" class=\"dataframe\">\n",
       "  <thead>\n",
       "    <tr style=\"text-align: right;\">\n",
       "      <th></th>\n",
       "      <th></th>\n",
       "      <th>selection_rate</th>\n",
       "      <th>fbeta_06</th>\n",
       "      <th>count</th>\n",
       "    </tr>\n",
       "    <tr>\n",
       "      <th>Loan Size</th>\n",
       "      <th>Credit Score</th>\n",
       "      <th></th>\n",
       "      <th></th>\n",
       "      <th></th>\n",
       "    </tr>\n",
       "  </thead>\n",
       "  <tbody>\n",
       "    <tr>\n",
       "      <th rowspan=\"3\" valign=\"top\">Large</th>\n",
       "      <th>High</th>\n",
       "      <td>0</td>\n",
       "      <td>0</td>\n",
       "      <td>23</td>\n",
       "    </tr>\n",
       "    <tr>\n",
       "      <th>Low</th>\n",
       "      <td>0.00434783</td>\n",
       "      <td>0.60177</td>\n",
       "      <td>460</td>\n",
       "    </tr>\n",
       "    <tr>\n",
       "      <th>Medium</th>\n",
       "      <td>0.0714286</td>\n",
       "      <td>0.388325</td>\n",
       "      <td>434</td>\n",
       "    </tr>\n",
       "    <tr>\n",
       "      <th rowspan=\"3\" valign=\"top\">Small</th>\n",
       "      <th>High</th>\n",
       "      <td>0.0380313</td>\n",
       "      <td>0.664928</td>\n",
       "      <td>447</td>\n",
       "    </tr>\n",
       "    <tr>\n",
       "      <th>Low</th>\n",
       "      <td>0.0241758</td>\n",
       "      <td>0.549299</td>\n",
       "      <td>6825</td>\n",
       "    </tr>\n",
       "    <tr>\n",
       "      <th>Medium</th>\n",
       "      <td>0.408106</td>\n",
       "      <td>0.700288</td>\n",
       "      <td>6464</td>\n",
       "    </tr>\n",
       "  </tbody>\n",
       "</table>\n",
       "</div>"
      ],
      "text/plain": [
       "                       selection_rate  fbeta_06 count\n",
       "Loan Size Credit Score                               \n",
       "Large     High                      0         0    23\n",
       "          Low              0.00434783   0.60177   460\n",
       "          Medium            0.0714286  0.388325   434\n",
       "Small     High              0.0380313  0.664928   447\n",
       "          Low               0.0241758  0.549299  6825\n",
       "          Medium             0.408106  0.700288  6464"
      ]
     },
     "execution_count": 35,
     "metadata": {},
     "output_type": "execute_result"
    }
   ],
   "source": [
    "cond_both.overall"
   ]
  },
  {
   "cell_type": "markdown",
   "metadata": {},
   "source": [
    "As does the `by_groups` property, where `NaN` values indicate that there\n",
    "were no samples in the cell:\n"
   ]
  },
  {
   "cell_type": "code",
   "execution_count": 36,
   "metadata": {
    "collapsed": false,
    "jupyter": {
     "outputs_hidden": false
    }
   },
   "outputs": [
    {
     "data": {
      "text/html": [
       "<div>\n",
       "<style scoped>\n",
       "    .dataframe tbody tr th:only-of-type {\n",
       "        vertical-align: middle;\n",
       "    }\n",
       "\n",
       "    .dataframe tbody tr th {\n",
       "        vertical-align: top;\n",
       "    }\n",
       "\n",
       "    .dataframe thead th {\n",
       "        text-align: right;\n",
       "    }\n",
       "</style>\n",
       "<table border=\"1\" class=\"dataframe\">\n",
       "  <thead>\n",
       "    <tr style=\"text-align: right;\">\n",
       "      <th></th>\n",
       "      <th></th>\n",
       "      <th></th>\n",
       "      <th></th>\n",
       "      <th>selection_rate</th>\n",
       "      <th>fbeta_06</th>\n",
       "      <th>count</th>\n",
       "    </tr>\n",
       "    <tr>\n",
       "      <th>Loan Size</th>\n",
       "      <th>Credit Score</th>\n",
       "      <th>race</th>\n",
       "      <th>sex</th>\n",
       "      <th></th>\n",
       "      <th></th>\n",
       "      <th></th>\n",
       "    </tr>\n",
       "  </thead>\n",
       "  <tbody>\n",
       "    <tr>\n",
       "      <th rowspan=\"18\" valign=\"top\">Large</th>\n",
       "      <th rowspan=\"6\" valign=\"top\">High</th>\n",
       "      <th rowspan=\"2\" valign=\"top\">Black</th>\n",
       "      <th>Female</th>\n",
       "      <td>0</td>\n",
       "      <td>0</td>\n",
       "      <td>5</td>\n",
       "    </tr>\n",
       "    <tr>\n",
       "      <th>Male</th>\n",
       "      <td>0</td>\n",
       "      <td>0</td>\n",
       "      <td>1</td>\n",
       "    </tr>\n",
       "    <tr>\n",
       "      <th rowspan=\"2\" valign=\"top\">Other</th>\n",
       "      <th>Female</th>\n",
       "      <td>0</td>\n",
       "      <td>0</td>\n",
       "      <td>3</td>\n",
       "    </tr>\n",
       "    <tr>\n",
       "      <th>Male</th>\n",
       "      <td>NaN</td>\n",
       "      <td>NaN</td>\n",
       "      <td>NaN</td>\n",
       "    </tr>\n",
       "    <tr>\n",
       "      <th rowspan=\"2\" valign=\"top\">White</th>\n",
       "      <th>Female</th>\n",
       "      <td>0</td>\n",
       "      <td>0</td>\n",
       "      <td>13</td>\n",
       "    </tr>\n",
       "    <tr>\n",
       "      <th>Male</th>\n",
       "      <td>0</td>\n",
       "      <td>0</td>\n",
       "      <td>1</td>\n",
       "    </tr>\n",
       "    <tr>\n",
       "      <th rowspan=\"6\" valign=\"top\">Low</th>\n",
       "      <th rowspan=\"2\" valign=\"top\">Black</th>\n",
       "      <th>Female</th>\n",
       "      <td>0</td>\n",
       "      <td>0</td>\n",
       "      <td>52</td>\n",
       "    </tr>\n",
       "    <tr>\n",
       "      <th>Male</th>\n",
       "      <td>0.030303</td>\n",
       "      <td>1</td>\n",
       "      <td>33</td>\n",
       "    </tr>\n",
       "    <tr>\n",
       "      <th rowspan=\"2\" valign=\"top\">Other</th>\n",
       "      <th>Female</th>\n",
       "      <td>0</td>\n",
       "      <td>0</td>\n",
       "      <td>3</td>\n",
       "    </tr>\n",
       "    <tr>\n",
       "      <th>Male</th>\n",
       "      <td>0</td>\n",
       "      <td>0</td>\n",
       "      <td>14</td>\n",
       "    </tr>\n",
       "    <tr>\n",
       "      <th rowspan=\"2\" valign=\"top\">White</th>\n",
       "      <th>Female</th>\n",
       "      <td>0</td>\n",
       "      <td>0</td>\n",
       "      <td>133</td>\n",
       "    </tr>\n",
       "    <tr>\n",
       "      <th>Male</th>\n",
       "      <td>0.00444444</td>\n",
       "      <td>0.557377</td>\n",
       "      <td>225</td>\n",
       "    </tr>\n",
       "    <tr>\n",
       "      <th rowspan=\"6\" valign=\"top\">Medium</th>\n",
       "      <th rowspan=\"2\" valign=\"top\">Black</th>\n",
       "      <th>Female</th>\n",
       "      <td>0</td>\n",
       "      <td>0</td>\n",
       "      <td>7</td>\n",
       "    </tr>\n",
       "    <tr>\n",
       "      <th>Male</th>\n",
       "      <td>0.0263158</td>\n",
       "      <td>0.295652</td>\n",
       "      <td>38</td>\n",
       "    </tr>\n",
       "    <tr>\n",
       "      <th rowspan=\"2\" valign=\"top\">Other</th>\n",
       "      <th>Female</th>\n",
       "      <td>0.111111</td>\n",
       "      <td>0</td>\n",
       "      <td>9</td>\n",
       "    </tr>\n",
       "    <tr>\n",
       "      <th>Male</th>\n",
       "      <td>0</td>\n",
       "      <td>0</td>\n",
       "      <td>19</td>\n",
       "    </tr>\n",
       "    <tr>\n",
       "      <th rowspan=\"2\" valign=\"top\">White</th>\n",
       "      <th>Female</th>\n",
       "      <td>0</td>\n",
       "      <td>0</td>\n",
       "      <td>28</td>\n",
       "    </tr>\n",
       "    <tr>\n",
       "      <th>Male</th>\n",
       "      <td>0.0870871</td>\n",
       "      <td>0.420976</td>\n",
       "      <td>333</td>\n",
       "    </tr>\n",
       "    <tr>\n",
       "      <th rowspan=\"18\" valign=\"top\">Small</th>\n",
       "      <th rowspan=\"6\" valign=\"top\">High</th>\n",
       "      <th rowspan=\"2\" valign=\"top\">Black</th>\n",
       "      <th>Female</th>\n",
       "      <td>0</td>\n",
       "      <td>0</td>\n",
       "      <td>49</td>\n",
       "    </tr>\n",
       "    <tr>\n",
       "      <th>Male</th>\n",
       "      <td>0.0714286</td>\n",
       "      <td>1</td>\n",
       "      <td>14</td>\n",
       "    </tr>\n",
       "    <tr>\n",
       "      <th rowspan=\"2\" valign=\"top\">Other</th>\n",
       "      <th>Female</th>\n",
       "      <td>0</td>\n",
       "      <td>0</td>\n",
       "      <td>18</td>\n",
       "    </tr>\n",
       "    <tr>\n",
       "      <th>Male</th>\n",
       "      <td>0</td>\n",
       "      <td>0</td>\n",
       "      <td>4</td>\n",
       "    </tr>\n",
       "    <tr>\n",
       "      <th rowspan=\"2\" valign=\"top\">White</th>\n",
       "      <th>Female</th>\n",
       "      <td>0.0204778</td>\n",
       "      <td>0.529595</td>\n",
       "      <td>293</td>\n",
       "    </tr>\n",
       "    <tr>\n",
       "      <th>Male</th>\n",
       "      <td>0.144928</td>\n",
       "      <td>0.759305</td>\n",
       "      <td>69</td>\n",
       "    </tr>\n",
       "    <tr>\n",
       "      <th rowspan=\"6\" valign=\"top\">Low</th>\n",
       "      <th rowspan=\"2\" valign=\"top\">Black</th>\n",
       "      <th>Female</th>\n",
       "      <td>0.00773694</td>\n",
       "      <td>0.626728</td>\n",
       "      <td>517</td>\n",
       "    </tr>\n",
       "    <tr>\n",
       "      <th>Male</th>\n",
       "      <td>0.0196078</td>\n",
       "      <td>0.518293</td>\n",
       "      <td>357</td>\n",
       "    </tr>\n",
       "    <tr>\n",
       "      <th rowspan=\"2\" valign=\"top\">Other</th>\n",
       "      <th>Female</th>\n",
       "      <td>0.0122699</td>\n",
       "      <td>0.519084</td>\n",
       "      <td>163</td>\n",
       "    </tr>\n",
       "    <tr>\n",
       "      <th>Male</th>\n",
       "      <td>0.0408163</td>\n",
       "      <td>0.715789</td>\n",
       "      <td>147</td>\n",
       "    </tr>\n",
       "    <tr>\n",
       "      <th rowspan=\"2\" valign=\"top\">White</th>\n",
       "      <th>Female</th>\n",
       "      <td>0.0158046</td>\n",
       "      <td>0.527656</td>\n",
       "      <td>2784</td>\n",
       "    </tr>\n",
       "    <tr>\n",
       "      <th>Male</th>\n",
       "      <td>0.0357018</td>\n",
       "      <td>0.550162</td>\n",
       "      <td>2857</td>\n",
       "    </tr>\n",
       "    <tr>\n",
       "      <th rowspan=\"6\" valign=\"top\">Medium</th>\n",
       "      <th rowspan=\"2\" valign=\"top\">Black</th>\n",
       "      <th>Female</th>\n",
       "      <td>0.228916</td>\n",
       "      <td>0.648094</td>\n",
       "      <td>83</td>\n",
       "    </tr>\n",
       "    <tr>\n",
       "      <th>Male</th>\n",
       "      <td>0.231317</td>\n",
       "      <td>0.590371</td>\n",
       "      <td>281</td>\n",
       "    </tr>\n",
       "    <tr>\n",
       "      <th rowspan=\"2\" valign=\"top\">Other</th>\n",
       "      <th>Female</th>\n",
       "      <td>0.258621</td>\n",
       "      <td>0.524085</td>\n",
       "      <td>58</td>\n",
       "    </tr>\n",
       "    <tr>\n",
       "      <th>Male</th>\n",
       "      <td>0.362205</td>\n",
       "      <td>0.740024</td>\n",
       "      <td>254</td>\n",
       "    </tr>\n",
       "    <tr>\n",
       "      <th rowspan=\"2\" valign=\"top\">White</th>\n",
       "      <th>Female</th>\n",
       "      <td>0.390323</td>\n",
       "      <td>0.682328</td>\n",
       "      <td>620</td>\n",
       "    </tr>\n",
       "    <tr>\n",
       "      <th>Male</th>\n",
       "      <td>0.426664</td>\n",
       "      <td>0.705861</td>\n",
       "      <td>5168</td>\n",
       "    </tr>\n",
       "  </tbody>\n",
       "</table>\n",
       "</div>"
      ],
      "text/plain": [
       "                                    selection_rate  fbeta_06 count\n",
       "Loan Size Credit Score race  sex                                  \n",
       "Large     High         Black Female              0         0     5\n",
       "                             Male                0         0     1\n",
       "                       Other Female              0         0     3\n",
       "                             Male              NaN       NaN   NaN\n",
       "                       White Female              0         0    13\n",
       "                             Male                0         0     1\n",
       "          Low          Black Female              0         0    52\n",
       "                             Male         0.030303         1    33\n",
       "                       Other Female              0         0     3\n",
       "                             Male                0         0    14\n",
       "                       White Female              0         0   133\n",
       "                             Male       0.00444444  0.557377   225\n",
       "          Medium       Black Female              0         0     7\n",
       "                             Male        0.0263158  0.295652    38\n",
       "                       Other Female       0.111111         0     9\n",
       "                             Male                0         0    19\n",
       "                       White Female              0         0    28\n",
       "                             Male        0.0870871  0.420976   333\n",
       "Small     High         Black Female              0         0    49\n",
       "                             Male        0.0714286         1    14\n",
       "                       Other Female              0         0    18\n",
       "                             Male                0         0     4\n",
       "                       White Female      0.0204778  0.529595   293\n",
       "                             Male         0.144928  0.759305    69\n",
       "          Low          Black Female     0.00773694  0.626728   517\n",
       "                             Male        0.0196078  0.518293   357\n",
       "                       Other Female      0.0122699  0.519084   163\n",
       "                             Male        0.0408163  0.715789   147\n",
       "                       White Female      0.0158046  0.527656  2784\n",
       "                             Male        0.0357018  0.550162  2857\n",
       "          Medium       Black Female       0.228916  0.648094    83\n",
       "                             Male         0.231317  0.590371   281\n",
       "                       Other Female       0.258621  0.524085    58\n",
       "                             Male         0.362205  0.740024   254\n",
       "                       White Female       0.390323  0.682328   620\n",
       "                             Male         0.426664  0.705861  5168"
      ]
     },
     "execution_count": 36,
     "metadata": {},
     "output_type": "execute_result"
    }
   ],
   "source": [
    "cond_both.by_group"
   ]
  },
  {
   "cell_type": "markdown",
   "metadata": {},
   "source": [
    "The aggregates behave similarly. By this point, we are having\n",
    "significant issues with under-populated intersections. Consider:\n"
   ]
  },
  {
   "cell_type": "code",
   "execution_count": 37,
   "metadata": {
    "collapsed": false,
    "jupyter": {
     "outputs_hidden": false
    }
   },
   "outputs": [
    {
     "name": "stderr",
     "output_type": "stream",
     "text": [
      "Found 36 subgroups. Evaluation may be slow\n"
     ]
    },
    {
     "data": {
      "text/plain": [
       "Loan Size  Credit Score  race   sex   \n",
       "Large      High          Black  Female       5\n",
       "                                Male         1\n",
       "                         Other  Female       3\n",
       "                                Male       NaN\n",
       "                         White  Female      13\n",
       "                                Male         1\n",
       "           Low           Black  Female      52\n",
       "                                Male        33\n",
       "                         Other  Female       3\n",
       "                                Male        14\n",
       "                         White  Female     133\n",
       "                                Male       225\n",
       "           Medium        Black  Female       7\n",
       "                                Male        38\n",
       "                         Other  Female       9\n",
       "                                Male        19\n",
       "                         White  Female      28\n",
       "                                Male       333\n",
       "Small      High          Black  Female      49\n",
       "                                Male        14\n",
       "                         Other  Female      18\n",
       "                                Male         4\n",
       "                         White  Female     293\n",
       "                                Male        69\n",
       "           Low           Black  Female     517\n",
       "                                Male       357\n",
       "                         Other  Female     163\n",
       "                                Male       147\n",
       "                         White  Female    2784\n",
       "                                Male      2857\n",
       "           Medium        Black  Female      83\n",
       "                                Male       281\n",
       "                         Other  Female      58\n",
       "                                Male       254\n",
       "                         White  Female     620\n",
       "                                Male      5168\n",
       "Name: member_counts, dtype: object"
      ]
     },
     "execution_count": 37,
     "metadata": {},
     "output_type": "execute_result"
    }
   ],
   "source": [
    "def member_counts(y_true, y_pred):\n",
    "    assert len(y_true) == len(y_pred)\n",
    "    return len(y_true)\n",
    "\n",
    "\n",
    "counts = MetricFrame(metrics=member_counts,\n",
    "                     y_true=y_test,\n",
    "                     y_pred=y_pred,\n",
    "                     sensitive_features=A_test[['race', 'sex']],\n",
    "                     control_features=A_test[['Loan Size', 'Credit Score']])\n",
    "\n",
    "counts.by_group"
   ]
  },
  {
   "cell_type": "markdown",
   "metadata": {},
   "source": [
    "Recall that `NaN` indicates that there were no individuals in a cell -\n",
    "`member_counts()` will not even have been called.\n"
   ]
  },
  {
   "cell_type": "markdown",
   "metadata": {},
   "source": [
    "Exporting from MetricFrame\n",
    "==========================\n",
    "\n",
    "Sometimes, we need to extract our data for use in other tools. For this,\n",
    "we can use the :pypandas.DataFrame.to\\_csv method, since the\n",
    ":py\\~fairlearn.metrics.MetricFrame.by\\_group property will be a\n",
    "pandas.DataFrame (or in a few cases, it will be a pandas.Series, but\n",
    "that has a similar :py\\~pandas.Series.to\\_csv method):\n"
   ]
  },
  {
   "cell_type": "code",
   "execution_count": 38,
   "metadata": {
    "collapsed": false,
    "jupyter": {
     "outputs_hidden": false
    }
   },
   "outputs": [
    {
     "name": "stdout",
     "output_type": "stream",
     "text": [
      "Credit Score,race,sex,selection_rate,fbeta_06,count\n",
      "High,Black,Female,0.0,0.0,54\n",
      "High,Black,Male,0.06666666666666667,1.0,15\n",
      "High,Other,Female,0.0,0.0,21\n",
      "High,Other,Male,0.0,0.0,4\n",
      "High,White,Female,0.0196078431372549,0.5295950155763239,306\n",
      "High,White,Male,0.14285714285714285,0.7593052109181142,70\n",
      "Low,Black,Female,0.007029876977152899,0.6267281105990783,569\n",
      "Low,Black,Male,0.020512820512820513,0.56353591160221,390\n",
      "Low,Other,Female,0.012048192771084338,0.5190839694656488,166\n",
      "Low,Other,Male,0.037267080745341616,0.6938775510204082,161\n",
      "Low,White,Female,0.015083990401097017,0.5257731958762887,2917\n",
      "Low,White,Male,0.033419857235561325,0.5502497502497502,3082\n",
      "Medium,Black,Female,0.2111111111111111,0.6396526772793053,90\n",
      "Medium,Black,Male,0.20689655172413793,0.5775764439411097,319\n",
      "Medium,Other,Female,0.23880597014925373,0.5,67\n",
      "Medium,Other,Male,0.336996336996337,0.7320574162679426,273\n",
      "Medium,White,Female,0.3734567901234568,0.6808811402992107,648\n",
      "Medium,White,Male,0.40610798036720597,0.700837357443748,5501\n",
      "\n"
     ]
    }
   ],
   "source": [
    "csv_output = cond_credit_score.by_group.to_csv()\n",
    "print(csv_output)"
   ]
  },
  {
   "cell_type": "markdown",
   "metadata": {},
   "source": [
    "The :pypandas.DataFrame.to\\_csv method has a large number of arguments\n",
    "to control the exported CSV. For example, it can write directly to a CSV\n",
    "file, rather than returning a string (as shown above).\n",
    "\n",
    "The \\~fairlearn.metrics.MetricFrame.overall property can be handled\n",
    "similarly, in the cases that it is not a scalar.\n"
   ]
  },
  {
   "cell_type": "code",
   "execution_count": null,
   "metadata": {},
   "outputs": [],
   "source": []
  }
 ],
 "metadata": {
  "kernelspec": {
   "display_name": "Python 3",
   "language": "python",
   "name": "python3"
  },
  "language_info": {
   "codemirror_mode": {
    "name": "ipython",
    "version": 3
   },
   "file_extension": ".py",
   "mimetype": "text/x-python",
   "name": "python",
   "nbconvert_exporter": "python",
   "pygments_lexer": "ipython3",
   "version": "3.6.10"
  }
 },
 "nbformat": 4,
 "nbformat_minor": 4
}
